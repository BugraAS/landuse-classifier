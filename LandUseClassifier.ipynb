{
  "cells": [
    {
      "cell_type": "markdown",
      "metadata": {
        "id": "view-in-github",
        "colab_type": "text"
      },
      "source": [
        "<a href=\"https://colab.research.google.com/github/BugraAlptekinSari/landuse-classifier/blob/main/LandUseClassifier.ipynb\" target=\"_parent\"><img src=\"https://colab.research.google.com/assets/colab-badge.svg\" alt=\"Open In Colab\"/></a>"
      ]
    },
    {
      "cell_type": "markdown",
      "source": [
        "# Start"
      ],
      "metadata": {
        "id": "ynyrv2-MLH8j"
      }
    },
    {
      "cell_type": "code",
      "execution_count": null,
      "metadata": {
        "id": "qe3H2CaY9nAH"
      },
      "outputs": [],
      "source": [
        "# Import the necessary modules\n",
        "from osgeo import gdal\n",
        "import numpy as np\n",
        "import pandas as pd\n",
        "import matplotlib.pyplot as plt\n",
        "%matplotlib inline\n",
        "\n",
        "from sklearn.model_selection import train_test_split\n",
        "import joblib\n",
        "\n",
        "from sklearn.linear_model import SGDClassifier\n",
        "from sklearn.ensemble import RandomForestClassifier\n",
        "from sklearn.preprocessing import StandardScaler , PolynomialFeatures\n",
        "from sklearn.pipeline import make_pipeline"
      ]
    },
    {
      "cell_type": "code",
      "execution_count": null,
      "metadata": {
        "colab": {
          "base_uri": "https://localhost:8080/"
        },
        "id": "2GnYRAkX-Hwh",
        "outputId": "98373113-016d-4837-a4ab-87cc9f280508"
      },
      "outputs": [
        {
          "output_type": "stream",
          "name": "stdout",
          "text": [
            "Drive already mounted at /content/drive; to attempt to forcibly remount, call drive.mount(\"/content/drive\", force_remount=True).\n"
          ]
        }
      ],
      "source": [
        "from google.colab import drive\n",
        "drive.mount('/content/drive')"
      ]
    },
    {
      "cell_type": "markdown",
      "source": [
        "## Generating Features"
      ],
      "metadata": {
        "id": "-SopYocOq4zs"
      }
    },
    {
      "cell_type": "code",
      "execution_count": null,
      "metadata": {
        "id": "hmus4VZn96MC"
      },
      "outputs": [],
      "source": [
        "# Open the GeoTIFF files using GDAL\n",
        "training2D_label = gdal.Open(\"< path to .tif file containing labels >\").ReadAsArray()\n",
        "training2D_data = gdal.Open('<path to .tif file containing color bands>').ReadAsArray()\n",
        "\n",
        "# Transpose the images for whatever reason\n",
        "training2D_label = np.swapaxes(training2D_label, 0, 1)\n",
        "training2D_data = np.swapaxes(training2D_data, 0, 2)"
      ]
    },
    {
      "cell_type": "code",
      "execution_count": null,
      "metadata": {
        "id": "-v0QmaFHnwOZ"
      },
      "outputs": [],
      "source": [
        "from skimage.io import imshow\n",
        "from skimage.filters.rank import entropy\n",
        "from skimage.morphology import disk"
      ]
    },
    {
      "cell_type": "code",
      "execution_count": null,
      "metadata": {
        "id": "bX_iYDBYHoY1"
      },
      "outputs": [],
      "source": [
        "def get_entropy(img):\n",
        "  out = []\n",
        "  for i in range(4):\n",
        "    out.append(entropy(img[:,:,i], disk(10)))\n",
        "  return out\n",
        "\n",
        "def convert_to_1D_df(img_list):\n",
        "  out_list = []\n",
        "  for i in range(4):\n",
        "    out_list.append( pd.DataFrame(img_list[i].reshape(img_list[i].shape[0] * img_list[i].shape[1])))\n",
        "  out_df = pd.concat(out_list,axis=1)\n",
        "  out_df.columns = ['Conv_Blue', 'Conv_Green', 'Conv_Red', 'Conv_NIR']\n",
        "  return out_df"
      ]
    },
    {
      "cell_type": "code",
      "execution_count": null,
      "metadata": {
        "id": "bnCwbRK2pd-p",
        "colab": {
          "base_uri": "https://localhost:8080/"
        },
        "outputId": "a234371d-fabf-4542-b4b2-0c37e0897044"
      },
      "outputs": [
        {
          "output_type": "stream",
          "name": "stderr",
          "text": [
            "/usr/local/lib/python3.8/dist-packages/skimage/filters/rank/generic.py:264: UserWarning: Bad rank filter performance is expected due to a large number of bins (10916), equivalent to an approximate bitdepth of 13.4.\n",
            "  image, selem, out, mask, n_bins = _preprocess_input(image, selem,\n",
            "/usr/local/lib/python3.8/dist-packages/skimage/filters/rank/generic.py:264: UserWarning: Bad rank filter performance is expected due to a large number of bins (11378), equivalent to an approximate bitdepth of 13.5.\n",
            "  image, selem, out, mask, n_bins = _preprocess_input(image, selem,\n",
            "/usr/local/lib/python3.8/dist-packages/skimage/filters/rank/generic.py:264: UserWarning: Bad rank filter performance is expected due to a large number of bins (14104), equivalent to an approximate bitdepth of 13.8.\n",
            "  image, selem, out, mask, n_bins = _preprocess_input(image, selem,\n",
            "/usr/local/lib/python3.8/dist-packages/skimage/filters/rank/generic.py:264: UserWarning: Bad rank filter performance is expected due to a large number of bins (15344), equivalent to an approximate bitdepth of 13.9.\n",
            "  image, selem, out, mask, n_bins = _preprocess_input(image, selem,\n"
          ]
        }
      ],
      "source": [
        "entr_training_list = get_entropy(training2D_data)"
      ]
    },
    {
      "cell_type": "code",
      "source": [
        "entr_training_list[0].shape"
      ],
      "metadata": {
        "colab": {
          "base_uri": "https://localhost:8080/"
        },
        "id": "ZFN08K_X0BM5",
        "outputId": "77843910-076d-4a64-a41b-230ac498a4d5"
      },
      "execution_count": null,
      "outputs": [
        {
          "output_type": "execute_result",
          "data": {
            "text/plain": [
              "(855, 1131)"
            ]
          },
          "metadata": {},
          "execution_count": 52
        }
      ]
    },
    {
      "cell_type": "code",
      "source": [
        "training2D_data.reshape(training2D_data.shape[0] * training2D_data.shape[1], -1).shape"
      ],
      "metadata": {
        "colab": {
          "base_uri": "https://localhost:8080/"
        },
        "id": "JCFHMCxEAhrz",
        "outputId": "76b5f6eb-0b64-4397-b15f-ecb058488d8e"
      },
      "execution_count": null,
      "outputs": [
        {
          "output_type": "execute_result",
          "data": {
            "text/plain": [
              "(967005, 4)"
            ]
          },
          "metadata": {},
          "execution_count": 53
        }
      ]
    },
    {
      "cell_type": "code",
      "source": [
        "plt.imshow(entr_training_list[3], interpolation='nearest')"
      ],
      "metadata": {
        "colab": {
          "base_uri": "https://localhost:8080/",
          "height": 286
        },
        "id": "7XcO5RejzoaL",
        "outputId": "59b2a7ea-0454-426a-f1e4-5b9866f397d8"
      },
      "execution_count": null,
      "outputs": [
        {
          "output_type": "execute_result",
          "data": {
            "text/plain": [
              "<matplotlib.image.AxesImage at 0x7f6237880130>"
            ]
          },
          "metadata": {},
          "execution_count": 54
        },
        {
          "output_type": "display_data",
          "data": {
            "text/plain": [
              "<Figure size 432x288 with 1 Axes>"
            ],
            "image/png": "[encoded data removed]"
          },
          "metadata": {
            "needs_background": "light"
          }
        }
      ]
    },
    {
      "cell_type": "code",
      "source": [
        "entr_training_df = convert_to_1D_df(entr_training_list)"
      ],
      "metadata": {
        "id": "9cqCVr5j4d4k"
      },
      "execution_count": null,
      "outputs": []
    },
    {
      "cell_type": "code",
      "execution_count": null,
      "metadata": {
        "id": "CFexKGiL2fbJ"
      },
      "outputs": [],
      "source": [
        "df_train_data = pd.DataFrame(training2D_data.reshape(training2D_data.shape[0] * training2D_data.shape[1], -1))"
      ]
    },
    {
      "cell_type": "code",
      "execution_count": null,
      "metadata": {
        "id": "cwceHmyOAD2C"
      },
      "outputs": [],
      "source": [
        "df_train_data = pd.concat([df_train_data , entr_training_df],axis=1)"
      ]
    },
    {
      "cell_type": "code",
      "execution_count": null,
      "metadata": {
        "colab": {
          "base_uri": "https://localhost:8080/",
          "height": 424
        },
        "id": "Gr5vx0_V9ar6",
        "outputId": "57fe19ab-c293-4627-b56d-2f707b2ac8c3"
      },
      "outputs": [
        {
          "output_type": "execute_result",
          "data": {
            "text/plain": [
              "        Blue  Green   Red   NIR  Conv_Blue  Conv_Green  Conv_Red  Conv_NIR\n",
              "0          0      0     0     0   5.869034    5.980145  5.980145  6.002367\n",
              "1       1997   1982  1860  3672   6.064115    6.184115  6.211663  6.211663\n",
              "2       1950   1906  1776  3335   6.199776    6.327049  6.320186  6.388457\n",
              "3       1933   1886  1742  3390   6.334148    6.457106  6.440439  6.530063\n",
              "4       2162   2035  2173  3605   6.462914    6.591797  6.514874  6.659143\n",
              "...      ...    ...   ...   ...        ...         ...       ...       ...\n",
              "967000  2358   2125  1996  1893   6.139337    5.969537  6.339337  6.366335\n",
              "967001  2375   2085  1948  1897   6.100274    5.939281  6.246189  6.354685\n",
              "967002  2356   2044  1952  1877   6.037956    5.856372  6.176548  6.269863\n",
              "967003  2331   2050  1961  1884   5.938563    5.796566  6.086112  6.216307\n",
              "967004  2359   2076  1973  1902   5.822246    5.741744  5.961026  6.127910\n",
              "\n",
              "[967005 rows x 8 columns]"
            ],
            "text/html": [
              "\n",
              "  <div id=\"df-d5a5dfa4-62f0-4234-a0aa-46d6a7ffd34f\">\n",
              "    <div class=\"colab-df-container\">\n",
              "      <div>\n",
              "<style scoped>\n",
              "    .dataframe tbody tr th:only-of-type {\n",
              "        vertical-align: middle;\n",
              "    }\n",
              "\n",
              "    .dataframe tbody tr th {\n",
              "        vertical-align: top;\n",
              "    }\n",
              "\n",
              "    .dataframe thead th {\n",
              "        text-align: right;\n",
              "    }\n",
              "</style>\n",
              "<table border=\"1\" class=\"dataframe\">\n",
              "  <thead>\n",
              "    <tr style=\"text-align: right;\">\n",
              "      <th></th>\n",
              "      <th>Blue</th>\n",
              "      <th>Green</th>\n",
              "      <th>Red</th>\n",
              "      <th>NIR</th>\n",
              "      <th>Conv_Blue</th>\n",
              "      <th>Conv_Green</th>\n",
              "      <th>Conv_Red</th>\n",
              "      <th>Conv_NIR</th>\n",
              "    </tr>\n",
              "  </thead>\n",
              "  <tbody>\n",
              "    <tr>\n",
              "      <th>0</th>\n",
              "      <td>0</td>\n",
              "      <td>0</td>\n",
              "      <td>0</td>\n",
              "      <td>0</td>\n",
              "      <td>5.869034</td>\n",
              "      <td>5.980145</td>\n",
              "      <td>5.980145</td>\n",
              "      <td>6.002367</td>\n",
              "    </tr>\n",
              "    <tr>\n",
              "      <th>1</th>\n",
              "      <td>1997</td>\n",
              "      <td>1982</td>\n",
              "      <td>1860</td>\n",
              "      <td>3672</td>\n",
              "      <td>6.064115</td>\n",
              "      <td>6.184115</td>\n",
              "      <td>6.211663</td>\n",
              "      <td>6.211663</td>\n",
              "    </tr>\n",
              "    <tr>\n",
              "      <th>2</th>\n",
              "      <td>1950</td>\n",
              "      <td>1906</td>\n",
              "      <td>1776</td>\n",
              "      <td>3335</td>\n",
              "      <td>6.199776</td>\n",
              "      <td>6.327049</td>\n",
              "      <td>6.320186</td>\n",
              "      <td>6.388457</td>\n",
              "    </tr>\n",
              "    <tr>\n",
              "      <th>3</th>\n",
              "      <td>1933</td>\n",
              "      <td>1886</td>\n",
              "      <td>1742</td>\n",
              "      <td>3390</td>\n",
              "      <td>6.334148</td>\n",
              "      <td>6.457106</td>\n",
              "      <td>6.440439</td>\n",
              "      <td>6.530063</td>\n",
              "    </tr>\n",
              "    <tr>\n",
              "      <th>4</th>\n",
              "      <td>2162</td>\n",
              "      <td>2035</td>\n",
              "      <td>2173</td>\n",
              "      <td>3605</td>\n",
              "      <td>6.462914</td>\n",
              "      <td>6.591797</td>\n",
              "      <td>6.514874</td>\n",
              "      <td>6.659143</td>\n",
              "    </tr>\n",
              "    <tr>\n",
              "      <th>...</th>\n",
              "      <td>...</td>\n",
              "      <td>...</td>\n",
              "      <td>...</td>\n",
              "      <td>...</td>\n",
              "      <td>...</td>\n",
              "      <td>...</td>\n",
              "      <td>...</td>\n",
              "      <td>...</td>\n",
              "    </tr>\n",
              "    <tr>\n",
              "      <th>967000</th>\n",
              "      <td>2358</td>\n",
              "      <td>2125</td>\n",
              "      <td>1996</td>\n",
              "      <td>1893</td>\n",
              "      <td>6.139337</td>\n",
              "      <td>5.969537</td>\n",
              "      <td>6.339337</td>\n",
              "      <td>6.366335</td>\n",
              "    </tr>\n",
              "    <tr>\n",
              "      <th>967001</th>\n",
              "      <td>2375</td>\n",
              "      <td>2085</td>\n",
              "      <td>1948</td>\n",
              "      <td>1897</td>\n",
              "      <td>6.100274</td>\n",
              "      <td>5.939281</td>\n",
              "      <td>6.246189</td>\n",
              "      <td>6.354685</td>\n",
              "    </tr>\n",
              "    <tr>\n",
              "      <th>967002</th>\n",
              "      <td>2356</td>\n",
              "      <td>2044</td>\n",
              "      <td>1952</td>\n",
              "      <td>1877</td>\n",
              "      <td>6.037956</td>\n",
              "      <td>5.856372</td>\n",
              "      <td>6.176548</td>\n",
              "      <td>6.269863</td>\n",
              "    </tr>\n",
              "    <tr>\n",
              "      <th>967003</th>\n",
              "      <td>2331</td>\n",
              "      <td>2050</td>\n",
              "      <td>1961</td>\n",
              "      <td>1884</td>\n",
              "      <td>5.938563</td>\n",
              "      <td>5.796566</td>\n",
              "      <td>6.086112</td>\n",
              "      <td>6.216307</td>\n",
              "    </tr>\n",
              "    <tr>\n",
              "      <th>967004</th>\n",
              "      <td>2359</td>\n",
              "      <td>2076</td>\n",
              "      <td>1973</td>\n",
              "      <td>1902</td>\n",
              "      <td>5.822246</td>\n",
              "      <td>5.741744</td>\n",
              "      <td>5.961026</td>\n",
              "      <td>6.127910</td>\n",
              "    </tr>\n",
              "  </tbody>\n",
              "</table>\n",
              "<p>967005 rows × 8 columns</p>\n",
              "</div>\n",
              "      <button class=\"colab-df-convert\" onclick=\"convertToInteractive('df-d5a5dfa4-62f0-4234-a0aa-46d6a7ffd34f')\"\n",
              "              title=\"Convert this dataframe to an interactive table.\"\n",
              "              style=\"display:none;\">\n",
              "        \n",
              "  <svg xmlns=\"http://www.w3.org/2000/svg\" height=\"24px\"viewBox=\"0 0 24 24\"\n",
              "       width=\"24px\">\n",
              "    <path d=\"M0 0h24v24H0V0z\" fill=\"none\"/>\n",
              "    <path d=\"M18.56 5.44l.94 2.06.94-2.06 2.06-.94-2.06-.94-.94-2.06-.94 2.06-2.06.94zm-11 1L8.5 8.5l.94-2.06 2.06-.94-2.06-.94L8.5 2.5l-.94 2.06-2.06.94zm10 10l.94 2.06.94-2.06 2.06-.94-2.06-.94-.94-2.06-.94 2.06-2.06.94z\"/><path d=\"M17.41 7.96l-1.37-1.37c-.4-.4-.92-.59-1.43-.59-.52 0-1.04.2-1.43.59L10.3 9.45l-7.72 7.72c-.78.78-.78 2.05 0 2.83L4 21.41c.39.39.9.59 1.41.59.51 0 1.02-.2 1.41-.59l7.78-7.78 2.81-2.81c.8-.78.8-2.07 0-2.86zM5.41 20L4 18.59l7.72-7.72 1.47 1.35L5.41 20z\"/>\n",
              "  </svg>\n",
              "      </button>\n",
              "      \n",
              "  <style>\n",
              "    .colab-df-container {\n",
              "      display:flex;\n",
              "      flex-wrap:wrap;\n",
              "      gap: 12px;\n",
              "    }\n",
              "\n",
              "    .colab-df-convert {\n",
              "      background-color: #E8F0FE;\n",
              "      border: none;\n",
              "      border-radius: 50%;\n",
              "      cursor: pointer;\n",
              "      display: none;\n",
              "      fill: #1967D2;\n",
              "      height: 32px;\n",
              "      padding: 0 0 0 0;\n",
              "      width: 32px;\n",
              "    }\n",
              "\n",
              "    .colab-df-convert:hover {\n",
              "      background-color: #E2EBFA;\n",
              "      box-shadow: 0px 1px 2px rgba(60, 64, 67, 0.3), 0px 1px 3px 1px rgba(60, 64, 67, 0.15);\n",
              "      fill: #174EA6;\n",
              "    }\n",
              "\n",
              "    [theme=dark] .colab-df-convert {\n",
              "      background-color: #3B4455;\n",
              "      fill: #D2E3FC;\n",
              "    }\n",
              "\n",
              "    [theme=dark] .colab-df-convert:hover {\n",
              "      background-color: #434B5C;\n",
              "      box-shadow: 0px 1px 3px 1px rgba(0, 0, 0, 0.15);\n",
              "      filter: drop-shadow(0px 1px 2px rgba(0, 0, 0, 0.3));\n",
              "      fill: #FFFFFF;\n",
              "    }\n",
              "  </style>\n",
              "\n",
              "      <script>\n",
              "        const buttonEl =\n",
              "          document.querySelector('#df-d5a5dfa4-62f0-4234-a0aa-46d6a7ffd34f button.colab-df-convert');\n",
              "        buttonEl.style.display =\n",
              "          google.colab.kernel.accessAllowed ? 'block' : 'none';\n",
              "\n",
              "        async function convertToInteractive(key) {\n",
              "          const element = document.querySelector('#df-d5a5dfa4-62f0-4234-a0aa-46d6a7ffd34f');\n",
              "          const dataTable =\n",
              "            await google.colab.kernel.invokeFunction('convertToInteractive',\n",
              "                                                     [key], {});\n",
              "          if (!dataTable) return;\n",
              "\n",
              "          const docLinkHtml = 'Like what you see? Visit the ' +\n",
              "            '<a target=\"_blank\" href=https://colab.research.google.com/notebooks/data_table.ipynb>data table notebook</a>'\n",
              "            + ' to learn more about interactive tables.';\n",
              "          element.innerHTML = '';\n",
              "          dataTable['output_type'] = 'display_data';\n",
              "          await google.colab.output.renderOutput(dataTable, element);\n",
              "          const docLink = document.createElement('div');\n",
              "          docLink.innerHTML = docLinkHtml;\n",
              "          element.appendChild(docLink);\n",
              "        }\n",
              "      </script>\n",
              "    </div>\n",
              "  </div>\n",
              "  "
            ]
          },
          "metadata": {},
          "execution_count": 58
        }
      ],
      "source": [
        "df_train_data.columns=['Blue', 'Green', 'Red', 'NIR','Conv_Blue', 'Conv_Green', 'Conv_Red', 'Conv_NIR']\n",
        "df_train_data"
      ]
    },
    {
      "cell_type": "code",
      "source": [
        "def calc_NDVI(red, nir):\n",
        "  return (nir - red)/(nir + red)\n",
        "\n",
        "def calc_NDWI(green, nir):\n",
        "  return (green - nir)/(nir + green)"
      ],
      "metadata": {
        "id": "eBK0yii9zgWn"
      },
      "execution_count": null,
      "outputs": []
    },
    {
      "cell_type": "code",
      "source": [
        "df_train_data[\"NDVI\"] = df_train_data.apply(lambda x:calc_NDVI(x.Red,x.NIR),axis=1)"
      ],
      "metadata": {
        "colab": {
          "base_uri": "https://localhost:8080/"
        },
        "id": "Mw3P-eqEziuC",
        "outputId": "c62e9d1e-0de5-40ca-d243-4ea43a029eb2"
      },
      "execution_count": null,
      "outputs": [
        {
          "output_type": "stream",
          "name": "stderr",
          "text": [
            "<ipython-input-59-d47dd91e20dc>:2: RuntimeWarning: invalid value encountered in double_scalars\n",
            "  return (nir - red)/(nir + red)\n"
          ]
        }
      ]
    },
    {
      "cell_type": "code",
      "source": [
        "df_train_data[\"NDWI\"] = df_train_data.apply(lambda x:calc_NDWI(x.Green,x.NIR),axis=1)"
      ],
      "metadata": {
        "colab": {
          "base_uri": "https://localhost:8080/"
        },
        "id": "_Jz_Njb7zq27",
        "outputId": "4b845b09-6c65-477e-ebdd-b60bab607ccb"
      },
      "execution_count": null,
      "outputs": [
        {
          "output_type": "stream",
          "name": "stderr",
          "text": [
            "<ipython-input-59-d47dd91e20dc>:5: RuntimeWarning: invalid value encountered in double_scalars\n",
            "  return (green - nir)/(nir + green)\n"
          ]
        }
      ]
    },
    {
      "cell_type": "code",
      "source": [
        "df_train_data = df_train_data.fillna(0)\n",
        "df_train_data"
      ],
      "metadata": {
        "colab": {
          "base_uri": "https://localhost:8080/",
          "height": 424
        },
        "id": "Wnb4xgzHz3qf",
        "outputId": "aafceefa-0c7a-4dfc-80ae-920f90b69704"
      },
      "execution_count": null,
      "outputs": [
        {
          "output_type": "execute_result",
          "data": {
            "text/plain": [
              "        Blue  Green   Red   NIR  Conv_Blue  Conv_Green  Conv_Red  Conv_NIR  \\\n",
              "0          0      0     0     0   5.869034    5.980145  5.980145  6.002367   \n",
              "1       1997   1982  1860  3672   6.064115    6.184115  6.211663  6.211663   \n",
              "2       1950   1906  1776  3335   6.199776    6.327049  6.320186  6.388457   \n",
              "3       1933   1886  1742  3390   6.334148    6.457106  6.440439  6.530063   \n",
              "4       2162   2035  2173  3605   6.462914    6.591797  6.514874  6.659143   \n",
              "...      ...    ...   ...   ...        ...         ...       ...       ...   \n",
              "967000  2358   2125  1996  1893   6.139337    5.969537  6.339337  6.366335   \n",
              "967001  2375   2085  1948  1897   6.100274    5.939281  6.246189  6.354685   \n",
              "967002  2356   2044  1952  1877   6.037956    5.856372  6.176548  6.269863   \n",
              "967003  2331   2050  1961  1884   5.938563    5.796566  6.086112  6.216307   \n",
              "967004  2359   2076  1973  1902   5.822246    5.741744  5.961026  6.127910   \n",
              "\n",
              "            NDVI      NDWI  \n",
              "0       0.000000  0.000000  \n",
              "1       0.327549 -0.298903  \n",
              "2       0.305028 -0.272658  \n",
              "3       0.321122 -0.285064  \n",
              "4       0.247837 -0.278369  \n",
              "...          ...       ...  \n",
              "967000 -0.026485  0.057740  \n",
              "967001 -0.013264  0.047212  \n",
              "967002 -0.019587  0.042591  \n",
              "967003 -0.020026  0.042196  \n",
              "967004 -0.018323  0.043741  \n",
              "\n",
              "[967005 rows x 10 columns]"
            ],
            "text/html": [
              "\n",
              "  <div id=\"df-d9f76d3d-b855-4257-8248-0fdac3424fc5\">\n",
              "    <div class=\"colab-df-container\">\n",
              "      <div>\n",
              "<style scoped>\n",
              "    .dataframe tbody tr th:only-of-type {\n",
              "        vertical-align: middle;\n",
              "    }\n",
              "\n",
              "    .dataframe tbody tr th {\n",
              "        vertical-align: top;\n",
              "    }\n",
              "\n",
              "    .dataframe thead th {\n",
              "        text-align: right;\n",
              "    }\n",
              "</style>\n",
              "<table border=\"1\" class=\"dataframe\">\n",
              "  <thead>\n",
              "    <tr style=\"text-align: right;\">\n",
              "      <th></th>\n",
              "      <th>Blue</th>\n",
              "      <th>Green</th>\n",
              "      <th>Red</th>\n",
              "      <th>NIR</th>\n",
              "      <th>Conv_Blue</th>\n",
              "      <th>Conv_Green</th>\n",
              "      <th>Conv_Red</th>\n",
              "      <th>Conv_NIR</th>\n",
              "      <th>NDVI</th>\n",
              "      <th>NDWI</th>\n",
              "    </tr>\n",
              "  </thead>\n",
              "  <tbody>\n",
              "    <tr>\n",
              "      <th>0</th>\n",
              "      <td>0</td>\n",
              "      <td>0</td>\n",
              "      <td>0</td>\n",
              "      <td>0</td>\n",
              "      <td>5.869034</td>\n",
              "      <td>5.980145</td>\n",
              "      <td>5.980145</td>\n",
              "      <td>6.002367</td>\n",
              "      <td>0.000000</td>\n",
              "      <td>0.000000</td>\n",
              "    </tr>\n",
              "    <tr>\n",
              "      <th>1</th>\n",
              "      <td>1997</td>\n",
              "      <td>1982</td>\n",
              "      <td>1860</td>\n",
              "      <td>3672</td>\n",
              "      <td>6.064115</td>\n",
              "      <td>6.184115</td>\n",
              "      <td>6.211663</td>\n",
              "      <td>6.211663</td>\n",
              "      <td>0.327549</td>\n",
              "      <td>-0.298903</td>\n",
              "    </tr>\n",
              "    <tr>\n",
              "      <th>2</th>\n",
              "      <td>1950</td>\n",
              "      <td>1906</td>\n",
              "      <td>1776</td>\n",
              "      <td>3335</td>\n",
              "      <td>6.199776</td>\n",
              "      <td>6.327049</td>\n",
              "      <td>6.320186</td>\n",
              "      <td>6.388457</td>\n",
              "      <td>0.305028</td>\n",
              "      <td>-0.272658</td>\n",
              "    </tr>\n",
              "    <tr>\n",
              "      <th>3</th>\n",
              "      <td>1933</td>\n",
              "      <td>1886</td>\n",
              "      <td>1742</td>\n",
              "      <td>3390</td>\n",
              "      <td>6.334148</td>\n",
              "      <td>6.457106</td>\n",
              "      <td>6.440439</td>\n",
              "      <td>6.530063</td>\n",
              "      <td>0.321122</td>\n",
              "      <td>-0.285064</td>\n",
              "    </tr>\n",
              "    <tr>\n",
              "      <th>4</th>\n",
              "      <td>2162</td>\n",
              "      <td>2035</td>\n",
              "      <td>2173</td>\n",
              "      <td>3605</td>\n",
              "      <td>6.462914</td>\n",
              "      <td>6.591797</td>\n",
              "      <td>6.514874</td>\n",
              "      <td>6.659143</td>\n",
              "      <td>0.247837</td>\n",
              "      <td>-0.278369</td>\n",
              "    </tr>\n",
              "    <tr>\n",
              "      <th>...</th>\n",
              "      <td>...</td>\n",
              "      <td>...</td>\n",
              "      <td>...</td>\n",
              "      <td>...</td>\n",
              "      <td>...</td>\n",
              "      <td>...</td>\n",
              "      <td>...</td>\n",
              "      <td>...</td>\n",
              "      <td>...</td>\n",
              "      <td>...</td>\n",
              "    </tr>\n",
              "    <tr>\n",
              "      <th>967000</th>\n",
              "      <td>2358</td>\n",
              "      <td>2125</td>\n",
              "      <td>1996</td>\n",
              "      <td>1893</td>\n",
              "      <td>6.139337</td>\n",
              "      <td>5.969537</td>\n",
              "      <td>6.339337</td>\n",
              "      <td>6.366335</td>\n",
              "      <td>-0.026485</td>\n",
              "      <td>0.057740</td>\n",
              "    </tr>\n",
              "    <tr>\n",
              "      <th>967001</th>\n",
              "      <td>2375</td>\n",
              "      <td>2085</td>\n",
              "      <td>1948</td>\n",
              "      <td>1897</td>\n",
              "      <td>6.100274</td>\n",
              "      <td>5.939281</td>\n",
              "      <td>6.246189</td>\n",
              "      <td>6.354685</td>\n",
              "      <td>-0.013264</td>\n",
              "      <td>0.047212</td>\n",
              "    </tr>\n",
              "    <tr>\n",
              "      <th>967002</th>\n",
              "      <td>2356</td>\n",
              "      <td>2044</td>\n",
              "      <td>1952</td>\n",
              "      <td>1877</td>\n",
              "      <td>6.037956</td>\n",
              "      <td>5.856372</td>\n",
              "      <td>6.176548</td>\n",
              "      <td>6.269863</td>\n",
              "      <td>-0.019587</td>\n",
              "      <td>0.042591</td>\n",
              "    </tr>\n",
              "    <tr>\n",
              "      <th>967003</th>\n",
              "      <td>2331</td>\n",
              "      <td>2050</td>\n",
              "      <td>1961</td>\n",
              "      <td>1884</td>\n",
              "      <td>5.938563</td>\n",
              "      <td>5.796566</td>\n",
              "      <td>6.086112</td>\n",
              "      <td>6.216307</td>\n",
              "      <td>-0.020026</td>\n",
              "      <td>0.042196</td>\n",
              "    </tr>\n",
              "    <tr>\n",
              "      <th>967004</th>\n",
              "      <td>2359</td>\n",
              "      <td>2076</td>\n",
              "      <td>1973</td>\n",
              "      <td>1902</td>\n",
              "      <td>5.822246</td>\n",
              "      <td>5.741744</td>\n",
              "      <td>5.961026</td>\n",
              "      <td>6.127910</td>\n",
              "      <td>-0.018323</td>\n",
              "      <td>0.043741</td>\n",
              "    </tr>\n",
              "  </tbody>\n",
              "</table>\n",
              "<p>967005 rows × 10 columns</p>\n",
              "</div>\n",
              "      <button class=\"colab-df-convert\" onclick=\"convertToInteractive('df-d9f76d3d-b855-4257-8248-0fdac3424fc5')\"\n",
              "              title=\"Convert this dataframe to an interactive table.\"\n",
              "              style=\"display:none;\">\n",
              "        \n",
              "  <svg xmlns=\"http://www.w3.org/2000/svg\" height=\"24px\"viewBox=\"0 0 24 24\"\n",
              "       width=\"24px\">\n",
              "    <path d=\"M0 0h24v24H0V0z\" fill=\"none\"/>\n",
              "    <path d=\"M18.56 5.44l.94 2.06.94-2.06 2.06-.94-2.06-.94-.94-2.06-.94 2.06-2.06.94zm-11 1L8.5 8.5l.94-2.06 2.06-.94-2.06-.94L8.5 2.5l-.94 2.06-2.06.94zm10 10l.94 2.06.94-2.06 2.06-.94-2.06-.94-.94-2.06-.94 2.06-2.06.94z\"/><path d=\"M17.41 7.96l-1.37-1.37c-.4-.4-.92-.59-1.43-.59-.52 0-1.04.2-1.43.59L10.3 9.45l-7.72 7.72c-.78.78-.78 2.05 0 2.83L4 21.41c.39.39.9.59 1.41.59.51 0 1.02-.2 1.41-.59l7.78-7.78 2.81-2.81c.8-.78.8-2.07 0-2.86zM5.41 20L4 18.59l7.72-7.72 1.47 1.35L5.41 20z\"/>\n",
              "  </svg>\n",
              "      </button>\n",
              "      \n",
              "  <style>\n",
              "    .colab-df-container {\n",
              "      display:flex;\n",
              "      flex-wrap:wrap;\n",
              "      gap: 12px;\n",
              "    }\n",
              "\n",
              "    .colab-df-convert {\n",
              "      background-color: #E8F0FE;\n",
              "      border: none;\n",
              "      border-radius: 50%;\n",
              "      cursor: pointer;\n",
              "      display: none;\n",
              "      fill: #1967D2;\n",
              "      height: 32px;\n",
              "      padding: 0 0 0 0;\n",
              "      width: 32px;\n",
              "    }\n",
              "\n",
              "    .colab-df-convert:hover {\n",
              "      background-color: #E2EBFA;\n",
              "      box-shadow: 0px 1px 2px rgba(60, 64, 67, 0.3), 0px 1px 3px 1px rgba(60, 64, 67, 0.15);\n",
              "      fill: #174EA6;\n",
              "    }\n",
              "\n",
              "    [theme=dark] .colab-df-convert {\n",
              "      background-color: #3B4455;\n",
              "      fill: #D2E3FC;\n",
              "    }\n",
              "\n",
              "    [theme=dark] .colab-df-convert:hover {\n",
              "      background-color: #434B5C;\n",
              "      box-shadow: 0px 1px 3px 1px rgba(0, 0, 0, 0.15);\n",
              "      filter: drop-shadow(0px 1px 2px rgba(0, 0, 0, 0.3));\n",
              "      fill: #FFFFFF;\n",
              "    }\n",
              "  </style>\n",
              "\n",
              "      <script>\n",
              "        const buttonEl =\n",
              "          document.querySelector('#df-d9f76d3d-b855-4257-8248-0fdac3424fc5 button.colab-df-convert');\n",
              "        buttonEl.style.display =\n",
              "          google.colab.kernel.accessAllowed ? 'block' : 'none';\n",
              "\n",
              "        async function convertToInteractive(key) {\n",
              "          const element = document.querySelector('#df-d9f76d3d-b855-4257-8248-0fdac3424fc5');\n",
              "          const dataTable =\n",
              "            await google.colab.kernel.invokeFunction('convertToInteractive',\n",
              "                                                     [key], {});\n",
              "          if (!dataTable) return;\n",
              "\n",
              "          const docLinkHtml = 'Like what you see? Visit the ' +\n",
              "            '<a target=\"_blank\" href=https://colab.research.google.com/notebooks/data_table.ipynb>data table notebook</a>'\n",
              "            + ' to learn more about interactive tables.';\n",
              "          element.innerHTML = '';\n",
              "          dataTable['output_type'] = 'display_data';\n",
              "          await google.colab.output.renderOutput(dataTable, element);\n",
              "          const docLink = document.createElement('div');\n",
              "          docLink.innerHTML = docLinkHtml;\n",
              "          element.appendChild(docLink);\n",
              "        }\n",
              "      </script>\n",
              "    </div>\n",
              "  </div>\n",
              "  "
            ]
          },
          "metadata": {},
          "execution_count": 62
        }
      ]
    },
    {
      "cell_type": "code",
      "execution_count": null,
      "metadata": {
        "id": "6DS-agb_-fQq"
      },
      "outputs": [],
      "source": [
        "df_train_data.to_pickle('drive/<path to data directory>/conv_train.pkl')"
      ]
    },
    {
      "cell_type": "markdown",
      "source": [
        "## Load Pre-Processed Pickle"
      ],
      "metadata": {
        "id": "BxBI0LSjqzVa"
      }
    },
    {
      "cell_type": "code",
      "source": [
        "df_train_data = pd.read_pickle('drive/<path to data directory>/conv_train.pkl')"
      ],
      "metadata": {
        "id": "QR7OPTE2KbCR"
      },
      "execution_count": null,
      "outputs": []
    },
    {
      "cell_type": "code",
      "source": [
        "df_train_data"
      ],
      "metadata": {
        "colab": {
          "base_uri": "https://localhost:8080/",
          "height": 424
        },
        "id": "Ywe6aQ9VK315",
        "outputId": "39bc504b-315b-4b9d-d105-132b4a97c5b9"
      },
      "execution_count": null,
      "outputs": [
        {
          "output_type": "execute_result",
          "data": {
            "text/plain": [
              "        Blue  Green   Red   NIR  Conv_Blue  Conv_Green  Conv_Red  Conv_NIR  \\\n",
              "0          0      0     0     0   5.869034    5.980145  5.980145  6.002367   \n",
              "1       1997   1982  1860  3672   6.064115    6.184115  6.211663  6.211663   \n",
              "2       1950   1906  1776  3335   6.199776    6.327049  6.320186  6.388457   \n",
              "3       1933   1886  1742  3390   6.334148    6.457106  6.440439  6.530063   \n",
              "4       2162   2035  2173  3605   6.462914    6.591797  6.514874  6.659143   \n",
              "...      ...    ...   ...   ...        ...         ...       ...       ...   \n",
              "967000  2358   2125  1996  1893   6.139337    5.969537  6.339337  6.366335   \n",
              "967001  2375   2085  1948  1897   6.100274    5.939281  6.246189  6.354685   \n",
              "967002  2356   2044  1952  1877   6.037956    5.856372  6.176548  6.269863   \n",
              "967003  2331   2050  1961  1884   5.938563    5.796566  6.086112  6.216307   \n",
              "967004  2359   2076  1973  1902   5.822246    5.741744  5.961026  6.127910   \n",
              "\n",
              "            NDVI      NDWI  \n",
              "0       0.000000  0.000000  \n",
              "1       0.327549 -0.298903  \n",
              "2       0.305028 -0.272658  \n",
              "3       0.321122 -0.285064  \n",
              "4       0.247837 -0.278369  \n",
              "...          ...       ...  \n",
              "967000 -0.026485  0.057740  \n",
              "967001 -0.013264  0.047212  \n",
              "967002 -0.019587  0.042591  \n",
              "967003 -0.020026  0.042196  \n",
              "967004 -0.018323  0.043741  \n",
              "\n",
              "[967005 rows x 10 columns]"
            ],
            "text/html": [
              "\n",
              "  <div id=\"df-d129a732-f81f-48e2-9e9f-627b576a2731\">\n",
              "    <div class=\"colab-df-container\">\n",
              "      <div>\n",
              "<style scoped>\n",
              "    .dataframe tbody tr th:only-of-type {\n",
              "        vertical-align: middle;\n",
              "    }\n",
              "\n",
              "    .dataframe tbody tr th {\n",
              "        vertical-align: top;\n",
              "    }\n",
              "\n",
              "    .dataframe thead th {\n",
              "        text-align: right;\n",
              "    }\n",
              "</style>\n",
              "<table border=\"1\" class=\"dataframe\">\n",
              "  <thead>\n",
              "    <tr style=\"text-align: right;\">\n",
              "      <th></th>\n",
              "      <th>Blue</th>\n",
              "      <th>Green</th>\n",
              "      <th>Red</th>\n",
              "      <th>NIR</th>\n",
              "      <th>Conv_Blue</th>\n",
              "      <th>Conv_Green</th>\n",
              "      <th>Conv_Red</th>\n",
              "      <th>Conv_NIR</th>\n",
              "      <th>NDVI</th>\n",
              "      <th>NDWI</th>\n",
              "    </tr>\n",
              "  </thead>\n",
              "  <tbody>\n",
              "    <tr>\n",
              "      <th>0</th>\n",
              "      <td>0</td>\n",
              "      <td>0</td>\n",
              "      <td>0</td>\n",
              "      <td>0</td>\n",
              "      <td>5.869034</td>\n",
              "      <td>5.980145</td>\n",
              "      <td>5.980145</td>\n",
              "      <td>6.002367</td>\n",
              "      <td>0.000000</td>\n",
              "      <td>0.000000</td>\n",
              "    </tr>\n",
              "    <tr>\n",
              "      <th>1</th>\n",
              "      <td>1997</td>\n",
              "      <td>1982</td>\n",
              "      <td>1860</td>\n",
              "      <td>3672</td>\n",
              "      <td>6.064115</td>\n",
              "      <td>6.184115</td>\n",
              "      <td>6.211663</td>\n",
              "      <td>6.211663</td>\n",
              "      <td>0.327549</td>\n",
              "      <td>-0.298903</td>\n",
              "    </tr>\n",
              "    <tr>\n",
              "      <th>2</th>\n",
              "      <td>1950</td>\n",
              "      <td>1906</td>\n",
              "      <td>1776</td>\n",
              "      <td>3335</td>\n",
              "      <td>6.199776</td>\n",
              "      <td>6.327049</td>\n",
              "      <td>6.320186</td>\n",
              "      <td>6.388457</td>\n",
              "      <td>0.305028</td>\n",
              "      <td>-0.272658</td>\n",
              "    </tr>\n",
              "    <tr>\n",
              "      <th>3</th>\n",
              "      <td>1933</td>\n",
              "      <td>1886</td>\n",
              "      <td>1742</td>\n",
              "      <td>3390</td>\n",
              "      <td>6.334148</td>\n",
              "      <td>6.457106</td>\n",
              "      <td>6.440439</td>\n",
              "      <td>6.530063</td>\n",
              "      <td>0.321122</td>\n",
              "      <td>-0.285064</td>\n",
              "    </tr>\n",
              "    <tr>\n",
              "      <th>4</th>\n",
              "      <td>2162</td>\n",
              "      <td>2035</td>\n",
              "      <td>2173</td>\n",
              "      <td>3605</td>\n",
              "      <td>6.462914</td>\n",
              "      <td>6.591797</td>\n",
              "      <td>6.514874</td>\n",
              "      <td>6.659143</td>\n",
              "      <td>0.247837</td>\n",
              "      <td>-0.278369</td>\n",
              "    </tr>\n",
              "    <tr>\n",
              "      <th>...</th>\n",
              "      <td>...</td>\n",
              "      <td>...</td>\n",
              "      <td>...</td>\n",
              "      <td>...</td>\n",
              "      <td>...</td>\n",
              "      <td>...</td>\n",
              "      <td>...</td>\n",
              "      <td>...</td>\n",
              "      <td>...</td>\n",
              "      <td>...</td>\n",
              "    </tr>\n",
              "    <tr>\n",
              "      <th>967000</th>\n",
              "      <td>2358</td>\n",
              "      <td>2125</td>\n",
              "      <td>1996</td>\n",
              "      <td>1893</td>\n",
              "      <td>6.139337</td>\n",
              "      <td>5.969537</td>\n",
              "      <td>6.339337</td>\n",
              "      <td>6.366335</td>\n",
              "      <td>-0.026485</td>\n",
              "      <td>0.057740</td>\n",
              "    </tr>\n",
              "    <tr>\n",
              "      <th>967001</th>\n",
              "      <td>2375</td>\n",
              "      <td>2085</td>\n",
              "      <td>1948</td>\n",
              "      <td>1897</td>\n",
              "      <td>6.100274</td>\n",
              "      <td>5.939281</td>\n",
              "      <td>6.246189</td>\n",
              "      <td>6.354685</td>\n",
              "      <td>-0.013264</td>\n",
              "      <td>0.047212</td>\n",
              "    </tr>\n",
              "    <tr>\n",
              "      <th>967002</th>\n",
              "      <td>2356</td>\n",
              "      <td>2044</td>\n",
              "      <td>1952</td>\n",
              "      <td>1877</td>\n",
              "      <td>6.037956</td>\n",
              "      <td>5.856372</td>\n",
              "      <td>6.176548</td>\n",
              "      <td>6.269863</td>\n",
              "      <td>-0.019587</td>\n",
              "      <td>0.042591</td>\n",
              "    </tr>\n",
              "    <tr>\n",
              "      <th>967003</th>\n",
              "      <td>2331</td>\n",
              "      <td>2050</td>\n",
              "      <td>1961</td>\n",
              "      <td>1884</td>\n",
              "      <td>5.938563</td>\n",
              "      <td>5.796566</td>\n",
              "      <td>6.086112</td>\n",
              "      <td>6.216307</td>\n",
              "      <td>-0.020026</td>\n",
              "      <td>0.042196</td>\n",
              "    </tr>\n",
              "    <tr>\n",
              "      <th>967004</th>\n",
              "      <td>2359</td>\n",
              "      <td>2076</td>\n",
              "      <td>1973</td>\n",
              "      <td>1902</td>\n",
              "      <td>5.822246</td>\n",
              "      <td>5.741744</td>\n",
              "      <td>5.961026</td>\n",
              "      <td>6.127910</td>\n",
              "      <td>-0.018323</td>\n",
              "      <td>0.043741</td>\n",
              "    </tr>\n",
              "  </tbody>\n",
              "</table>\n",
              "<p>967005 rows × 10 columns</p>\n",
              "</div>\n",
              "      <button class=\"colab-df-convert\" onclick=\"convertToInteractive('df-d129a732-f81f-48e2-9e9f-627b576a2731')\"\n",
              "              title=\"Convert this dataframe to an interactive table.\"\n",
              "              style=\"display:none;\">\n",
              "        \n",
              "  <svg xmlns=\"http://www.w3.org/2000/svg\" height=\"24px\"viewBox=\"0 0 24 24\"\n",
              "       width=\"24px\">\n",
              "    <path d=\"M0 0h24v24H0V0z\" fill=\"none\"/>\n",
              "    <path d=\"M18.56 5.44l.94 2.06.94-2.06 2.06-.94-2.06-.94-.94-2.06-.94 2.06-2.06.94zm-11 1L8.5 8.5l.94-2.06 2.06-.94-2.06-.94L8.5 2.5l-.94 2.06-2.06.94zm10 10l.94 2.06.94-2.06 2.06-.94-2.06-.94-.94-2.06-.94 2.06-2.06.94z\"/><path d=\"M17.41 7.96l-1.37-1.37c-.4-.4-.92-.59-1.43-.59-.52 0-1.04.2-1.43.59L10.3 9.45l-7.72 7.72c-.78.78-.78 2.05 0 2.83L4 21.41c.39.39.9.59 1.41.59.51 0 1.02-.2 1.41-.59l7.78-7.78 2.81-2.81c.8-.78.8-2.07 0-2.86zM5.41 20L4 18.59l7.72-7.72 1.47 1.35L5.41 20z\"/>\n",
              "  </svg>\n",
              "      </button>\n",
              "      \n",
              "  <style>\n",
              "    .colab-df-container {\n",
              "      display:flex;\n",
              "      flex-wrap:wrap;\n",
              "      gap: 12px;\n",
              "    }\n",
              "\n",
              "    .colab-df-convert {\n",
              "      background-color: #E8F0FE;\n",
              "      border: none;\n",
              "      border-radius: 50%;\n",
              "      cursor: pointer;\n",
              "      display: none;\n",
              "      fill: #1967D2;\n",
              "      height: 32px;\n",
              "      padding: 0 0 0 0;\n",
              "      width: 32px;\n",
              "    }\n",
              "\n",
              "    .colab-df-convert:hover {\n",
              "      background-color: #E2EBFA;\n",
              "      box-shadow: 0px 1px 2px rgba(60, 64, 67, 0.3), 0px 1px 3px 1px rgba(60, 64, 67, 0.15);\n",
              "      fill: #174EA6;\n",
              "    }\n",
              "\n",
              "    [theme=dark] .colab-df-convert {\n",
              "      background-color: #3B4455;\n",
              "      fill: #D2E3FC;\n",
              "    }\n",
              "\n",
              "    [theme=dark] .colab-df-convert:hover {\n",
              "      background-color: #434B5C;\n",
              "      box-shadow: 0px 1px 3px 1px rgba(0, 0, 0, 0.15);\n",
              "      filter: drop-shadow(0px 1px 2px rgba(0, 0, 0, 0.3));\n",
              "      fill: #FFFFFF;\n",
              "    }\n",
              "  </style>\n",
              "\n",
              "      <script>\n",
              "        const buttonEl =\n",
              "          document.querySelector('#df-d129a732-f81f-48e2-9e9f-627b576a2731 button.colab-df-convert');\n",
              "        buttonEl.style.display =\n",
              "          google.colab.kernel.accessAllowed ? 'block' : 'none';\n",
              "\n",
              "        async function convertToInteractive(key) {\n",
              "          const element = document.querySelector('#df-d129a732-f81f-48e2-9e9f-627b576a2731');\n",
              "          const dataTable =\n",
              "            await google.colab.kernel.invokeFunction('convertToInteractive',\n",
              "                                                     [key], {});\n",
              "          if (!dataTable) return;\n",
              "\n",
              "          const docLinkHtml = 'Like what you see? Visit the ' +\n",
              "            '<a target=\"_blank\" href=https://colab.research.google.com/notebooks/data_table.ipynb>data table notebook</a>'\n",
              "            + ' to learn more about interactive tables.';\n",
              "          element.innerHTML = '';\n",
              "          dataTable['output_type'] = 'display_data';\n",
              "          await google.colab.output.renderOutput(dataTable, element);\n",
              "          const docLink = document.createElement('div');\n",
              "          docLink.innerHTML = docLinkHtml;\n",
              "          element.appendChild(docLink);\n",
              "        }\n",
              "      </script>\n",
              "    </div>\n",
              "  </div>\n",
              "  "
            ]
          },
          "metadata": {},
          "execution_count": 21
        }
      ]
    },
    {
      "cell_type": "code",
      "execution_count": null,
      "metadata": {
        "id": "eANlf9aW_quz"
      },
      "outputs": [],
      "source": [
        "df_train_label = pd.DataFrame(training2D_label.reshape(training2D_label.shape[0] * training2D_label.shape[1], -1))\n",
        "del training2D_data\n",
        "del training2D_label"
      ]
    },
    {
      "cell_type": "code",
      "execution_count": null,
      "metadata": {
        "id": "AcP56S_NAbS6"
      },
      "outputs": [],
      "source": [
        "df_train_label.columns=[\"Code\"]"
      ]
    },
    {
      "cell_type": "code",
      "source": [
        "train_water_index = (df_train_label[\"Code\"] == 80)"
      ],
      "metadata": {
        "id": "OCLoUgQB0-Op"
      },
      "execution_count": null,
      "outputs": []
    },
    {
      "cell_type": "code",
      "source": [
        "df_train_data_nw = df_train_data.loc[~train_water_index, :]\n",
        "df_train_label_nw = df_train_label.loc[~train_water_index, :]"
      ],
      "metadata": {
        "id": "zZDiaThH1IqI"
      },
      "execution_count": null,
      "outputs": []
    },
    {
      "cell_type": "code",
      "source": [
        "train_nw_building_index = df_train_label_nw[\"Code\"] == 50"
      ],
      "metadata": {
        "id": "XFoneQe_lk-u"
      },
      "execution_count": null,
      "outputs": []
    },
    {
      "cell_type": "code",
      "source": [
        "df_train_data_plant = df_train_data_nw.loc[~train_nw_building_index, :]\n",
        "df_train_label_plant = df_train_label_nw.loc[~train_nw_building_index, :]"
      ],
      "metadata": {
        "id": "O3ewH90qQqgI"
      },
      "execution_count": null,
      "outputs": []
    },
    {
      "cell_type": "markdown",
      "source": [
        "## Data Split (No Water)"
      ],
      "metadata": {
        "id": "kvWqlb-ItD_S"
      }
    },
    {
      "cell_type": "code",
      "execution_count": null,
      "metadata": {
        "id": "uL9Jy5JM9nAb"
      },
      "outputs": [],
      "source": [
        "X_train, X_test, y_train, y_test = train_test_split(df_train_data_nw, df_train_label_nw, stratify=df_train_label_nw, test_size=0.30)"
      ]
    },
    {
      "cell_type": "markdown",
      "source": [
        "### No water and building only"
      ],
      "metadata": {
        "id": "6y-V5Tq3nsy1"
      }
    },
    {
      "cell_type": "code",
      "source": [
        "X_train_building, X_test_building, y_train_building, y_test_building = train_test_split(df_train_data_nw, train_nw_building_index, stratify=train_nw_building_index, test_size=0.30)"
      ],
      "metadata": {
        "id": "TEsi2Q_inxT4"
      },
      "execution_count": null,
      "outputs": []
    },
    {
      "cell_type": "markdown",
      "source": [
        "### No Water, No Building"
      ],
      "metadata": {
        "id": "v_RpzpYUQ-MU"
      }
    },
    {
      "cell_type": "code",
      "source": [
        "X_train_plant, X_test_plant, y_train_plant, y_test_plant = train_test_split(df_train_data_plant, df_train_label_plant, stratify=df_train_label_plant, test_size=0.30)"
      ],
      "metadata": {
        "id": "g-eOm5MMRCe7"
      },
      "execution_count": null,
      "outputs": []
    },
    {
      "cell_type": "markdown",
      "source": [
        "## Data Split (Water Only)"
      ],
      "metadata": {
        "id": "NeUOtIWetHTQ"
      }
    },
    {
      "cell_type": "code",
      "source": [
        "X_train_water, X_test_water, y_train_water, y_test_water = train_test_split(df_train_data, train_water_index, stratify=train_water_index, test_size=0.30)"
      ],
      "metadata": {
        "id": "-pfCFPYVtKO8"
      },
      "execution_count": null,
      "outputs": []
    },
    {
      "cell_type": "markdown",
      "metadata": {
        "id": "8wqsQxgpCRpM"
      },
      "source": [
        "# SGD Classifier"
      ]
    },
    {
      "cell_type": "code",
      "execution_count": null,
      "metadata": {
        "id": "wYhDLbx8IMaG"
      },
      "outputs": [],
      "source": [
        "clf = make_pipeline(StandardScaler(), SGDClassifier(max_iter=1000, tol=1e-3))"
      ]
    },
    {
      "cell_type": "code",
      "execution_count": null,
      "metadata": {
        "colab": {
          "base_uri": "https://localhost:8080/"
        },
        "id": "rsfJBLpNIlA9",
        "outputId": "57ef140a-75a1-44e9-aa07-4ef03c1f9f88"
      },
      "outputs": [
        {
          "data": {
            "text/plain": [
              "Pipeline(steps=[('standardscaler', StandardScaler()),\n",
              "                ('sgdclassifier', SGDClassifier())])"
            ]
          },
          "execution_count": 9,
          "metadata": {},
          "output_type": "execute_result"
        }
      ],
      "source": [
        "clf.fit(X_train,y_train)"
      ]
    },
    {
      "cell_type": "code",
      "execution_count": null,
      "metadata": {
        "id": "juTEpGgFJEwg"
      },
      "outputs": [],
      "source": [
        "y_pred = clf.predict(X_test)"
      ]
    },
    {
      "cell_type": "code",
      "execution_count": null,
      "metadata": {
        "id": "UT8DWGiiJo3d"
      },
      "outputs": [],
      "source": [
        "from sklearn.metrics import confusion_matrix, classification_report"
      ]
    },
    {
      "cell_type": "code",
      "execution_count": null,
      "metadata": {
        "id": "cDWvQtlUKm5E"
      },
      "outputs": [],
      "source": [
        "def plot_confusion_matrix(conf_mtrx, classes, cmap=plt.cm.Blues):\n",
        "    num_class = conf_mtrx.shape[0]\n",
        "    \n",
        "    fig, ax = plt.subplots()\n",
        "    im = ax.imshow(conf_mtrx, interpolation='nearest', cmap=cmap)\n",
        "    ax.figure.colorbar(im, ax=ax)\n",
        "    ax.set(xticks=np.arange(num_class), yticks=np.arange(num_class),\n",
        "           xticklabels=classes, yticklabels=classes, \n",
        "           ylabel='True label', xlabel='Predicted label')\n",
        "\n",
        "    middle_threshold = conf_mtrx.max() / 2.\n",
        "    for row in range(num_class):\n",
        "        for col in range(num_class):\n",
        "            ax.text(col, row, format(conf_mtrx[row, col], '.0f'), ha=\"center\", va=\"center\",\n",
        "                    color=\"white\" if conf_mtrx[row, col] > middle_threshold else \"black\")\n",
        "    fig.tight_layout()\n",
        "    plt.show()"
      ]
    },
    {
      "cell_type": "code",
      "execution_count": null,
      "metadata": {
        "colab": {
          "base_uri": "https://localhost:8080/"
        },
        "id": "rLoYJF1IJ1q4",
        "outputId": "58bcee0e-b5e4-4c5b-8d71-373df6aafc48"
      },
      "outputs": [
        {
          "name": "stdout",
          "output_type": "stream",
          "text": [
            "              precision    recall  f1-score   support\n",
            "\n",
            "           0       0.75      0.69      0.72       425\n",
            "          10       0.74      0.04      0.08     17408\n",
            "          20       0.31      0.05      0.08      4713\n",
            "          30       0.52      0.71      0.60     32483\n",
            "          40       0.00      0.00      0.00      1304\n",
            "          50       0.71      0.91      0.80     43019\n",
            "          60       0.03      0.01      0.01      4504\n",
            "          80       0.99      0.99      0.99    185723\n",
            "          90       0.00      0.00      0.00       523\n",
            "\n",
            "    accuracy                           0.85    290102\n",
            "   macro avg       0.45      0.38      0.36    290102\n",
            "weighted avg       0.85      0.85      0.83    290102\n",
            "\n"
          ]
        }
      ],
      "source": [
        "cm = confusion_matrix(y_test,y_pred)\n",
        "report = classification_report(y_test,y_pred,zero_division=True)\n",
        "print(report)"
      ]
    },
    {
      "cell_type": "code",
      "execution_count": null,
      "metadata": {
        "colab": {
          "base_uri": "https://localhost:8080/",
          "height": 297
        },
        "id": "27b9aDz4LlwI",
        "outputId": "08c580e6-618e-4a92-a4b1-e931f4ab51a6"
      },
      "outputs": [
        {
          "data": {
            "image/png": "[encoded data removed]",
            "text/plain": [
              "<Figure size 432x288 with 2 Axes>"
            ]
          },
          "metadata": {},
          "output_type": "display_data"
        }
      ],
      "source": [
        "plot_confusion_matrix(cm, np.unique(y_test))"
      ]
    },
    {
      "cell_type": "markdown",
      "metadata": {
        "id": "lo2sv6ppCYZM"
      },
      "source": [
        "# Random Forest (Building only w/o water)"
      ]
    },
    {
      "cell_type": "code",
      "execution_count": null,
      "metadata": {
        "id": "uGjekL9tCiqk"
      },
      "outputs": [],
      "source": [
        "building_clf = make_pipeline(StandardScaler(), PolynomialFeatures(degree=3), RandomForestClassifier(max_depth=100, random_state=0))"
      ]
    },
    {
      "cell_type": "code",
      "execution_count": null,
      "metadata": {
        "colab": {
          "base_uri": "https://localhost:8080/"
        },
        "id": "ca_BHhaCCqVl",
        "outputId": "0b0a795f-3408-45c1-c286-f8f304d7732f"
      },
      "outputs": [
        {
          "output_type": "execute_result",
          "data": {
            "text/plain": [
              "Pipeline(steps=[('standardscaler', StandardScaler()),\n",
              "                ('polynomialfeatures', PolynomialFeatures(degree=3)),\n",
              "                ('randomforestclassifier',\n",
              "                 RandomForestClassifier(max_depth=100, random_state=0))])"
            ]
          },
          "metadata": {},
          "execution_count": 19
        }
      ],
      "source": [
        "building_clf.fit(X_train_building,y_train_building)"
      ]
    },
    {
      "cell_type": "code",
      "execution_count": null,
      "metadata": {
        "id": "KN-TdWzCCyJO"
      },
      "outputs": [],
      "source": [
        "y_pred_building = building_clf.predict(X_test_building)"
      ]
    },
    {
      "cell_type": "code",
      "execution_count": null,
      "metadata": {
        "colab": {
          "base_uri": "https://localhost:8080/"
        },
        "id": "d3u9aO6nDXJ_",
        "outputId": "a0062705-7f6e-4a6e-838a-07bc3481c486"
      },
      "outputs": [
        {
          "output_type": "stream",
          "name": "stdout",
          "text": [
            "              precision    recall  f1-score   support\n",
            "\n",
            "       False       0.93      0.90      0.91     61361\n",
            "        True       0.86      0.90      0.88     43019\n",
            "\n",
            "    accuracy                           0.90    104380\n",
            "   macro avg       0.89      0.90      0.90    104380\n",
            "weighted avg       0.90      0.90      0.90    104380\n",
            "\n"
          ]
        }
      ],
      "source": [
        "cm = confusion_matrix(y_test_building,y_pred_building)\n",
        "report = classification_report(y_test_building,y_pred_building,zero_division=True)\n",
        "print(report)"
      ]
    },
    {
      "cell_type": "code",
      "execution_count": null,
      "metadata": {
        "colab": {
          "base_uri": "https://localhost:8080/",
          "height": 297
        },
        "id": "AN-agTO4DbC3",
        "outputId": "3c9582e9-5088-4853-ff89-a989aa9f3146"
      },
      "outputs": [
        {
          "output_type": "display_data",
          "data": {
            "text/plain": [
              "<Figure size 432x288 with 2 Axes>"
            ],
            "image/png": "[encoded data removed]"
          },
          "metadata": {
            "needs_background": "light"
          }
        }
      ],
      "source": [
        "plot_confusion_matrix(cm, np.unique(y_test_building))"
      ]
    },
    {
      "cell_type": "markdown",
      "source": [
        "## Save/Load"
      ],
      "metadata": {
        "id": "bE11nCHxPrbO"
      }
    },
    {
      "cell_type": "code",
      "source": [
        "building_clf_name = \"drive/< path to saves directory >/RandomForest_100D_Building.sav\""
      ],
      "metadata": {
        "id": "GCNBehXEPurw"
      },
      "execution_count": null,
      "outputs": []
    },
    {
      "cell_type": "code",
      "source": [
        "joblib.dump(building_clf, building_clf_name)"
      ],
      "metadata": {
        "id": "XTHhdPnMP7oh"
      },
      "execution_count": null,
      "outputs": []
    },
    {
      "cell_type": "code",
      "source": [
        "building_clf = joblib.load(building_clf_name)"
      ],
      "metadata": {
        "id": "2qryvmntQJHM"
      },
      "execution_count": null,
      "outputs": []
    },
    {
      "cell_type": "markdown",
      "source": [
        "# Random Forest (No Building or Water)"
      ],
      "metadata": {
        "id": "O3CpKanKQctW"
      }
    },
    {
      "cell_type": "code",
      "source": [
        "plant_clf = make_pipeline(StandardScaler(), PolynomialFeatures(degree=3), RandomForestClassifier(max_depth=100, random_state=0))"
      ],
      "metadata": {
        "id": "yBGIBICCRs7l"
      },
      "execution_count": null,
      "outputs": []
    },
    {
      "cell_type": "code",
      "source": [
        "plant_clf.fit(X_train_plant,y_train_plant)"
      ],
      "metadata": {
        "colab": {
          "base_uri": "https://localhost:8080/"
        },
        "id": "OYnqpGNRRv-L",
        "outputId": "b8482dc1-2eff-4253-b1e3-d782caaa321c"
      },
      "execution_count": null,
      "outputs": [
        {
          "output_type": "stream",
          "name": "stderr",
          "text": [
            "/usr/local/lib/python3.8/dist-packages/sklearn/pipeline.py:394: DataConversionWarning: A column-vector y was passed when a 1d array was expected. Please change the shape of y to (n_samples,), for example using ravel().\n",
            "  self._final_estimator.fit(Xt, y, **fit_params_last_step)\n"
          ]
        },
        {
          "output_type": "execute_result",
          "data": {
            "text/plain": [
              "Pipeline(steps=[('standardscaler', StandardScaler()),\n",
              "                ('polynomialfeatures', PolynomialFeatures(degree=3)),\n",
              "                ('randomforestclassifier',\n",
              "                 RandomForestClassifier(max_depth=100, random_state=0))])"
            ]
          },
          "metadata": {},
          "execution_count": 35
        }
      ]
    },
    {
      "cell_type": "code",
      "source": [
        "y_pred_plant = plant_clf.predict(X_test_plant)"
      ],
      "metadata": {
        "id": "bLIcWJKDR7aL"
      },
      "execution_count": null,
      "outputs": []
    },
    {
      "cell_type": "code",
      "source": [
        "cm = confusion_matrix(y_test_plant,y_pred_plant)\n",
        "report = classification_report(y_test_plant,y_pred_plant,zero_division=True)\n",
        "print(report)"
      ],
      "metadata": {
        "colab": {
          "base_uri": "https://localhost:8080/"
        },
        "id": "n0yeiuTVSMQc",
        "outputId": "ed77db82-1230-46a2-d4b0-61255ea2216a"
      },
      "execution_count": null,
      "outputs": [
        {
          "output_type": "stream",
          "name": "stdout",
          "text": [
            "              precision    recall  f1-score   support\n",
            "\n",
            "           0       0.95      0.99      0.97       425\n",
            "          10       0.80      0.72      0.76     17408\n",
            "          20       0.77      0.72      0.74      4713\n",
            "          30       0.80      0.88      0.84     32483\n",
            "          40       0.81      0.23      0.35      1304\n",
            "          60       0.79      0.74      0.77      4504\n",
            "          90       0.71      0.47      0.57       524\n",
            "\n",
            "    accuracy                           0.80     61361\n",
            "   macro avg       0.80      0.68      0.71     61361\n",
            "weighted avg       0.80      0.80      0.79     61361\n",
            "\n"
          ]
        }
      ]
    },
    {
      "cell_type": "code",
      "source": [
        "plot_confusion_matrix(cm, np.unique(y_test_building))"
      ],
      "metadata": {
        "colab": {
          "base_uri": "https://localhost:8080/",
          "height": 297
        },
        "id": "eN0HDjt7SU_W",
        "outputId": "bef72ec9-ebcc-4b55-d6cb-02be12d0009a"
      },
      "execution_count": null,
      "outputs": [
        {
          "output_type": "display_data",
          "data": {
            "text/plain": [
              "<Figure size 432x288 with 2 Axes>"
            ],
            "image/png": "[encoded data removed]"
          },
          "metadata": {
            "needs_background": "light"
          }
        }
      ]
    },
    {
      "cell_type": "markdown",
      "source": [
        "## Save/Load"
      ],
      "metadata": {
        "id": "_xcyWmvFSZNN"
      }
    },
    {
      "cell_type": "code",
      "source": [
        "plant_clf_name = \"drive/< path to saves directory >/RandomForest_100D_plant.sav\""
      ],
      "metadata": {
        "id": "3ctFur_ZSjPB"
      },
      "execution_count": null,
      "outputs": []
    },
    {
      "cell_type": "code",
      "source": [
        "joblib.dump(plant_clf, plant_clf_name)"
      ],
      "metadata": {
        "id": "AePHtNPZSokO"
      },
      "execution_count": null,
      "outputs": []
    },
    {
      "cell_type": "code",
      "source": [
        "plant_clf = joblib.load(plant_clf_name)"
      ],
      "metadata": {
        "id": "8D2SYBN6SwFq"
      },
      "execution_count": null,
      "outputs": []
    },
    {
      "cell_type": "markdown",
      "metadata": {
        "id": "DzUp9IwZLiaz"
      },
      "source": [
        "# Non-linear SVM (No Water)"
      ]
    },
    {
      "cell_type": "code",
      "execution_count": null,
      "metadata": {
        "id": "nNaTT98MLsyq"
      },
      "outputs": [],
      "source": [
        "clf = make_pipeline(StandardScaler(), PolynomialFeatures(degree=3), SGDClassifier(max_iter=10000, tol=1e-9))"
      ]
    },
    {
      "cell_type": "code",
      "execution_count": null,
      "metadata": {
        "colab": {
          "base_uri": "https://localhost:8080/"
        },
        "id": "iNsPpI-kMQ9r",
        "outputId": "f2a8200d-1411-4525-a744-63cba5610bba"
      },
      "outputs": [
        {
          "output_type": "stream",
          "name": "stderr",
          "text": [
            "/usr/local/lib/python3.8/dist-packages/sklearn/utils/validation.py:993: DataConversionWarning: A column-vector y was passed when a 1d array was expected. Please change the shape of y to (n_samples, ), for example using ravel().\n",
            "  y = column_or_1d(y, warn=True)\n"
          ]
        },
        {
          "output_type": "execute_result",
          "data": {
            "text/plain": [
              "Pipeline(steps=[('standardscaler', StandardScaler()),\n",
              "                ('polynomialfeatures', PolynomialFeatures(degree=3)),\n",
              "                ('sgdclassifier', SGDClassifier(max_iter=10000, tol=1e-09))])"
            ]
          },
          "metadata": {},
          "execution_count": 38
        }
      ],
      "source": [
        "clf.fit(X_train,y_train)"
      ]
    },
    {
      "cell_type": "code",
      "execution_count": null,
      "metadata": {
        "id": "PsRUobbnMUHO"
      },
      "outputs": [],
      "source": [
        "y_pred = clf.predict(X_test)"
      ]
    },
    {
      "cell_type": "code",
      "execution_count": null,
      "metadata": {
        "colab": {
          "base_uri": "https://localhost:8080/"
        },
        "id": "9FsZ2TMD0gxe",
        "outputId": "450bae87-1860-4d15-9af9-76a1c71d67d9"
      },
      "outputs": [
        {
          "output_type": "stream",
          "name": "stdout",
          "text": [
            "              precision    recall  f1-score   support\n",
            "\n",
            "           0       0.92      0.99      0.95       425\n",
            "          10       0.68      0.65      0.66     17408\n",
            "          20       0.66      0.51      0.58      4713\n",
            "          30       0.69      0.74      0.72     32483\n",
            "          40       0.28      0.01      0.01      1304\n",
            "          50       0.82      0.89      0.86     43019\n",
            "          60       0.59      0.27      0.37      4504\n",
            "          90       0.28      0.04      0.07       524\n",
            "\n",
            "    accuracy                           0.75    104380\n",
            "   macro avg       0.62      0.51      0.53    104380\n",
            "weighted avg       0.73      0.75      0.73    104380\n",
            "\n"
          ]
        }
      ],
      "source": [
        "cm = confusion_matrix(y_test,y_pred)\n",
        "report = classification_report(y_test,y_pred,zero_division=True)\n",
        "print(report)"
      ]
    },
    {
      "cell_type": "code",
      "execution_count": null,
      "metadata": {
        "colab": {
          "base_uri": "https://localhost:8080/",
          "height": 297
        },
        "id": "kvA5kb7s0ktg",
        "outputId": "9821c547-dfe3-42c1-fe76-6b021e6e6a41"
      },
      "outputs": [
        {
          "output_type": "display_data",
          "data": {
            "text/plain": [
              "<Figure size 432x288 with 2 Axes>"
            ],
            "image/png": "[encoded data removed]"
          },
          "metadata": {
            "needs_background": "light"
          }
        }
      ],
      "source": [
        "plot_confusion_matrix(cm, np.unique(y_test))"
      ]
    },
    {
      "cell_type": "markdown",
      "source": [
        "## Save/Load Model"
      ],
      "metadata": {
        "id": "MNGVHQDyRJEJ"
      }
    },
    {
      "cell_type": "code",
      "source": [
        "clf_name = \"drive/< path to saves directory >/PSVM_10k_ENTR2.sav\""
      ],
      "metadata": {
        "id": "IzEWCaW7qnop"
      },
      "execution_count": null,
      "outputs": []
    },
    {
      "cell_type": "code",
      "source": [
        "joblib.dump(clf, clf_name)"
      ],
      "metadata": {
        "id": "4vfhF8_qsA-F"
      },
      "execution_count": null,
      "outputs": []
    },
    {
      "cell_type": "code",
      "source": [
        "clf = joblib.load(clf_name)"
      ],
      "metadata": {
        "id": "IcMu06lLRe70"
      },
      "execution_count": null,
      "outputs": []
    },
    {
      "cell_type": "markdown",
      "source": [
        "# Poly SVM (Building Only with no water)"
      ],
      "metadata": {
        "id": "RJTo2xrvkq7d"
      }
    },
    {
      "cell_type": "code",
      "source": [
        "building_clf = make_pipeline(StandardScaler(), PolynomialFeatures(degree=3), SGDClassifier(max_iter=10000, tol=1e-9))"
      ],
      "metadata": {
        "id": "3IL31T3Tky6b"
      },
      "execution_count": null,
      "outputs": []
    },
    {
      "cell_type": "code",
      "source": [
        "building_clf.fit(X_train_building,y_train_building)"
      ],
      "metadata": {
        "colab": {
          "base_uri": "https://localhost:8080/"
        },
        "id": "SLSW0Pjpq_cd",
        "outputId": "10616308-a095-455b-d720-cc04a0b4bf4e"
      },
      "execution_count": null,
      "outputs": [
        {
          "output_type": "execute_result",
          "data": {
            "text/plain": [
              "Pipeline(steps=[('standardscaler', StandardScaler()),\n",
              "                ('polynomialfeatures', PolynomialFeatures(degree=3)),\n",
              "                ('sgdclassifier', SGDClassifier(max_iter=10000, tol=1e-09))])"
            ]
          },
          "metadata": {},
          "execution_count": 24
        }
      ]
    },
    {
      "cell_type": "code",
      "source": [
        "y_pred_building = building_clf.predict(X_test_building)"
      ],
      "metadata": {
        "id": "C3ZlLqC-rFih"
      },
      "execution_count": null,
      "outputs": []
    },
    {
      "cell_type": "code",
      "source": [
        "cm = confusion_matrix(y_test_building,y_pred_building)\n",
        "report = classification_report(y_test_building,y_pred_building,zero_division=True)\n",
        "print(report)"
      ],
      "metadata": {
        "colab": {
          "base_uri": "https://localhost:8080/"
        },
        "id": "K53371i7rTvb",
        "outputId": "00854dbf-39fd-4b19-a1d7-15b603fa8e01"
      },
      "execution_count": null,
      "outputs": [
        {
          "output_type": "stream",
          "name": "stdout",
          "text": [
            "              precision    recall  f1-score   support\n",
            "\n",
            "       False       0.92      0.88      0.90     61361\n",
            "        True       0.84      0.89      0.86     43019\n",
            "\n",
            "    accuracy                           0.88    104380\n",
            "   macro avg       0.88      0.88      0.88    104380\n",
            "weighted avg       0.88      0.88      0.88    104380\n",
            "\n"
          ]
        }
      ]
    },
    {
      "cell_type": "code",
      "source": [
        "plot_confusion_matrix(cm, np.unique(y_test_building))"
      ],
      "metadata": {
        "colab": {
          "base_uri": "https://localhost:8080/",
          "height": 297
        },
        "id": "v4bFHP6QsnfG",
        "outputId": "d8981944-855f-4b3a-e905-accc415bdd7a"
      },
      "execution_count": null,
      "outputs": [
        {
          "output_type": "display_data",
          "data": {
            "text/plain": [
              "<Figure size 432x288 with 2 Axes>"
            ],
            "image/png": "[encoded data removed]"
          },
          "metadata": {
            "needs_background": "light"
          }
        }
      ]
    },
    {
      "cell_type": "markdown",
      "source": [
        "## Save/Load"
      ],
      "metadata": {
        "id": "IWtr5xUKYf_Y"
      }
    },
    {
      "cell_type": "code",
      "source": [
        "building_clf_name = \"drive/< path to saves directory >/PSVM_10k_ENTR_Building.sav\""
      ],
      "metadata": {
        "id": "OGL65PuAYita"
      },
      "execution_count": null,
      "outputs": []
    },
    {
      "cell_type": "code",
      "source": [
        "joblib.dump(building_clf, building_clf_name)"
      ],
      "metadata": {
        "id": "LJloP6DVY_Qj"
      },
      "execution_count": null,
      "outputs": []
    },
    {
      "cell_type": "code",
      "source": [
        "building_clf = joblib.load(building_clf_name)"
      ],
      "metadata": {
        "id": "UGWEWdgfZJd7"
      },
      "execution_count": null,
      "outputs": []
    },
    {
      "cell_type": "markdown",
      "source": [
        "# Poly SVM (Water Only)"
      ],
      "metadata": {
        "id": "hVvQYxmKs1TZ"
      }
    },
    {
      "cell_type": "code",
      "source": [
        "water_clf = make_pipeline(PolynomialFeatures(degree=2), StandardScaler(), SGDClassifier(max_iter=10000, tol=1e-6))"
      ],
      "metadata": {
        "id": "6bAmRU1DuSzW"
      },
      "execution_count": null,
      "outputs": []
    },
    {
      "cell_type": "code",
      "source": [
        "water_clf.fit(X_train_water,y_train_water)"
      ],
      "metadata": {
        "colab": {
          "base_uri": "https://localhost:8080/"
        },
        "id": "Z97iA5AtukJr",
        "outputId": "ba686963-19eb-420f-a37d-a4f528830525"
      },
      "execution_count": null,
      "outputs": [
        {
          "output_type": "execute_result",
          "data": {
            "text/plain": [
              "Pipeline(steps=[('polynomialfeatures', PolynomialFeatures()),\n",
              "                ('standardscaler', StandardScaler()),\n",
              "                ('sgdclassifier', SGDClassifier(max_iter=10000, tol=1e-06))])"
            ]
          },
          "metadata": {},
          "execution_count": 101
        }
      ]
    },
    {
      "cell_type": "code",
      "source": [
        "y_pred_water = water_clf.predict(X_test_water)"
      ],
      "metadata": {
        "id": "RgXSi3x7u2ki"
      },
      "execution_count": null,
      "outputs": []
    },
    {
      "cell_type": "code",
      "source": [
        "cm = confusion_matrix(y_test_water,y_pred_water)\n",
        "report = classification_report(y_test_water,y_pred_water,zero_division=True)\n",
        "print(report)"
      ],
      "metadata": {
        "colab": {
          "base_uri": "https://localhost:8080/"
        },
        "id": "RYKtJZ-qvb1o",
        "outputId": "0ea798df-e73c-4255-bdaf-6fc8251b2909"
      },
      "execution_count": null,
      "outputs": [
        {
          "output_type": "stream",
          "name": "stdout",
          "text": [
            "              precision    recall  f1-score   support\n",
            "\n",
            "       False       0.98      0.99      0.98    104379\n",
            "        True       1.00      0.99      0.99    185723\n",
            "\n",
            "    accuracy                           0.99    290102\n",
            "   macro avg       0.99      0.99      0.99    290102\n",
            "weighted avg       0.99      0.99      0.99    290102\n",
            "\n"
          ]
        }
      ]
    },
    {
      "cell_type": "code",
      "source": [
        "plot_confusion_matrix(cm, np.unique(y_test))"
      ],
      "metadata": {
        "colab": {
          "base_uri": "https://localhost:8080/",
          "height": 297
        },
        "id": "vLVU_MiNvrg0",
        "outputId": "82053c3c-5f27-43a7-e43c-28f5a926bb0f"
      },
      "execution_count": null,
      "outputs": [
        {
          "output_type": "display_data",
          "data": {
            "text/plain": [
              "<Figure size 432x288 with 2 Axes>"
            ],
            "image/png": "[encoded data removed]"
          },
          "metadata": {
            "needs_background": "light"
          }
        }
      ]
    },
    {
      "cell_type": "markdown",
      "source": [
        "## Save Model"
      ],
      "metadata": {
        "id": "rFj60K7t0xhz"
      }
    },
    {
      "cell_type": "code",
      "source": [
        "water_clf_name = \"drive/< path to saves directory >/Poly_2_SVM_10k_ENTR_WATER.sav\""
      ],
      "metadata": {
        "id": "MfnzLrG60zsR"
      },
      "execution_count": null,
      "outputs": []
    },
    {
      "cell_type": "code",
      "source": [
        "joblib.dump(water_clf, water_clf_name)"
      ],
      "metadata": {
        "id": "B6vGW0g-3BL_"
      },
      "execution_count": null,
      "outputs": []
    },
    {
      "cell_type": "markdown",
      "source": [
        "## Load Model"
      ],
      "metadata": {
        "id": "M1tqcri95IpH"
      }
    },
    {
      "cell_type": "code",
      "source": [
        "water_clf = joblib.load(water_clf_name)"
      ],
      "metadata": {
        "id": "1SiIaXdm5j1d"
      },
      "execution_count": null,
      "outputs": []
    },
    {
      "cell_type": "markdown",
      "metadata": {
        "id": "_2fzhfcA9i5N"
      },
      "source": [
        "# KNN Classifier"
      ]
    },
    {
      "cell_type": "code",
      "execution_count": null,
      "metadata": {
        "id": "D8PHbBAP9q4x"
      },
      "outputs": [],
      "source": [
        "from sklearn.model_selection import cross_val_score\n",
        "from sklearn.neighbors import KNeighborsClassifier"
      ]
    },
    {
      "cell_type": "code",
      "execution_count": null,
      "metadata": {
        "id": "EXd5s_Ue93IZ"
      },
      "outputs": [],
      "source": [
        "clf = KNeighborsClassifier(n_neighbors=1)"
      ]
    },
    {
      "cell_type": "code",
      "execution_count": null,
      "metadata": {
        "id": "0hqmPSrL_F1_"
      },
      "outputs": [],
      "source": [
        "from scipy import stats\n",
        "filtered_train_data = df_train_data[(np.abs(stats.zscore(df_train_data)) < 3).all(axis=1)]\n",
        "filtered_train_label = df_train_label[(np.abs(stats.zscore(df_train_data)) < 3).all(axis=1)]"
      ]
    },
    {
      "cell_type": "code",
      "execution_count": null,
      "metadata": {
        "id": "1KI8DosZ_aAo"
      },
      "outputs": [],
      "source": [
        "scores = cross_val_score(clf, filtered_train_data, np.ravel(filtered_train_label), cv=5)\n",
        "acc = scores.mean()"
      ]
    },
    {
      "cell_type": "code",
      "execution_count": null,
      "metadata": {
        "colab": {
          "base_uri": "https://localhost:8080/"
        },
        "id": "lclkgEpZ_xTd",
        "outputId": "b1df4509-a20d-4e23-970f-62dc78a25ab1"
      },
      "outputs": [
        {
          "data": {
            "text/plain": [
              "KNeighborsClassifier(n_neighbors=1)"
            ]
          },
          "execution_count": 53,
          "metadata": {},
          "output_type": "execute_result"
        }
      ],
      "source": [
        "clf.fit(filtered_train_data,filtered_train_label)"
      ]
    },
    {
      "cell_type": "markdown",
      "metadata": {
        "id": "JLw3IDal-2qh"
      },
      "source": [
        "# Poly SVM w/o split (Water Only)"
      ]
    },
    {
      "cell_type": "code",
      "execution_count": null,
      "metadata": {
        "id": "fzAE5Kha-7AF"
      },
      "outputs": [],
      "source": [
        "water_clf = make_pipeline(StandardScaler(), PolynomialFeatures(degree=2), SGDClassifier(max_iter=10000, tol=1e-9))"
      ]
    },
    {
      "cell_type": "code",
      "execution_count": null,
      "metadata": {
        "colab": {
          "base_uri": "https://localhost:8080/"
        },
        "id": "3wYMidKc_BNh",
        "outputId": "6d0ae8ed-8a66-4a70-fde9-c4cc2668119b"
      },
      "outputs": [
        {
          "output_type": "execute_result",
          "data": {
            "text/plain": [
              "Pipeline(steps=[('standardscaler', StandardScaler()),\n",
              "                ('polynomialfeatures', PolynomialFeatures()),\n",
              "                ('sgdclassifier', SGDClassifier(max_iter=10000, tol=1e-09))])"
            ]
          },
          "metadata": {},
          "execution_count": 25
        }
      ],
      "source": [
        "water_clf.fit(df_train_data,train_water_index)"
      ]
    },
    {
      "cell_type": "markdown",
      "source": [
        "## Save/Load"
      ],
      "metadata": {
        "id": "Z4Eh_UP953gk"
      }
    },
    {
      "cell_type": "code",
      "source": [
        "water_clf_name = \"drive/< path to saves directory >/PSVM_10k_ENTR_WATER_no_split.sav\""
      ],
      "metadata": {
        "id": "TGeh2U0K5529"
      },
      "execution_count": null,
      "outputs": []
    },
    {
      "cell_type": "code",
      "source": [
        "joblib.dump(water_clf, water_clf_name) # save"
      ],
      "metadata": {
        "id": "9lO6atUo6Dsv"
      },
      "execution_count": null,
      "outputs": []
    },
    {
      "cell_type": "code",
      "source": [
        "water_clf = joblib.load(water_clf_name) # load"
      ],
      "metadata": {
        "id": "rBfoDQd46Hln"
      },
      "execution_count": null,
      "outputs": []
    },
    {
      "cell_type": "markdown",
      "source": [
        "# Poly SVM w/o split (No Water)"
      ],
      "metadata": {
        "id": "y1BFzILy3_XC"
      }
    },
    {
      "cell_type": "code",
      "source": [
        "clf = make_pipeline(StandardScaler(), PolynomialFeatures(degree=3), SGDClassifier(max_iter=10000, tol=1e-9))"
      ],
      "metadata": {
        "id": "cQOlZ8JB4EAD"
      },
      "execution_count": null,
      "outputs": []
    },
    {
      "cell_type": "code",
      "source": [
        "clf.fit(df_train_data_nw,df_train_label_nw)"
      ],
      "metadata": {
        "colab": {
          "base_uri": "https://localhost:8080/"
        },
        "id": "9qTahDf645rD",
        "outputId": "51074880-617e-4ca3-90a0-77c7c69e4942"
      },
      "execution_count": null,
      "outputs": [
        {
          "output_type": "stream",
          "name": "stderr",
          "text": [
            "/usr/local/lib/python3.8/dist-packages/sklearn/utils/validation.py:993: DataConversionWarning: A column-vector y was passed when a 1d array was expected. Please change the shape of y to (n_samples, ), for example using ravel().\n",
            "  y = column_or_1d(y, warn=True)\n"
          ]
        },
        {
          "output_type": "execute_result",
          "data": {
            "text/plain": [
              "Pipeline(steps=[('standardscaler', StandardScaler()),\n",
              "                ('polynomialfeatures', PolynomialFeatures(degree=3)),\n",
              "                ('sgdclassifier', SGDClassifier(max_iter=10000, tol=1e-09))])"
            ]
          },
          "metadata": {},
          "execution_count": 29
        }
      ]
    },
    {
      "cell_type": "markdown",
      "source": [
        "## Save/Load"
      ],
      "metadata": {
        "id": "-Vw7FZRE6rMV"
      }
    },
    {
      "cell_type": "code",
      "source": [
        "clf_name = \"drive/< path to saves directory >/PSVM_10k_ENTR_no_split.sav\""
      ],
      "metadata": {
        "id": "DmVkniGC6tjP"
      },
      "execution_count": null,
      "outputs": []
    },
    {
      "cell_type": "code",
      "source": [
        "joblib.dump(clf, clf_name) # save"
      ],
      "metadata": {
        "id": "RvDGHw__7EU3"
      },
      "execution_count": null,
      "outputs": []
    },
    {
      "cell_type": "code",
      "source": [
        "clf = joblib.load(clf_name) # load"
      ],
      "metadata": {
        "id": "QjX9krC07IbU"
      },
      "execution_count": null,
      "outputs": []
    },
    {
      "cell_type": "markdown",
      "metadata": {
        "id": "9rTeeHS_1nzS"
      },
      "source": [
        "# Prediction"
      ]
    },
    {
      "cell_type": "code",
      "execution_count": null,
      "metadata": {
        "id": "K8PRW5fpGch9"
      },
      "outputs": [],
      "source": [
        "test2D_data = gdal.Open(\"/content/drive/< path to test data >\").ReadAsArray()\n",
        "test2D_data = np.swapaxes(test2D_data, 0, 2)"
      ]
    },
    {
      "cell_type": "code",
      "execution_count": null,
      "metadata": {
        "colab": {
          "base_uri": "https://localhost:8080/"
        },
        "id": "owuh4bpJI_gn",
        "outputId": "4ad7e40c-5935-4531-817b-71256f8e02d7"
      },
      "outputs": [
        {
          "output_type": "stream",
          "name": "stderr",
          "text": [
            "/usr/local/lib/python3.8/dist-packages/skimage/filters/rank/generic.py:264: UserWarning: Bad rank filter performance is expected due to a large number of bins (6748), equivalent to an approximate bitdepth of 12.7.\n",
            "  image, selem, out, mask, n_bins = _preprocess_input(image, selem,\n",
            "/usr/local/lib/python3.8/dist-packages/skimage/filters/rank/generic.py:264: UserWarning: Bad rank filter performance is expected due to a large number of bins (7128), equivalent to an approximate bitdepth of 12.8.\n",
            "  image, selem, out, mask, n_bins = _preprocess_input(image, selem,\n",
            "/usr/local/lib/python3.8/dist-packages/skimage/filters/rank/generic.py:264: UserWarning: Bad rank filter performance is expected due to a large number of bins (7875), equivalent to an approximate bitdepth of 12.9.\n",
            "  image, selem, out, mask, n_bins = _preprocess_input(image, selem,\n",
            "/usr/local/lib/python3.8/dist-packages/skimage/filters/rank/generic.py:264: UserWarning: Bad rank filter performance is expected due to a large number of bins (7939), equivalent to an approximate bitdepth of 13.0.\n",
            "  image, selem, out, mask, n_bins = _preprocess_input(image, selem,\n"
          ]
        }
      ],
      "source": [
        "test_entropy_img = get_entropy(test2D_data)"
      ]
    },
    {
      "cell_type": "code",
      "source": [
        "plt.imshow(test_entropy_img[0], interpolation='nearest')"
      ],
      "metadata": {
        "colab": {
          "base_uri": "https://localhost:8080/",
          "height": 286
        },
        "id": "TAIM4vcMFiOv",
        "outputId": "2b6c6d1b-a81c-4143-af74-71d27b73c375"
      },
      "execution_count": null,
      "outputs": [
        {
          "output_type": "execute_result",
          "data": {
            "text/plain": [
              "<matplotlib.image.AxesImage at 0x7f6231fd75b0>"
            ]
          },
          "metadata": {},
          "execution_count": 79
        },
        {
          "output_type": "display_data",
          "data": {
            "text/plain": [
              "<Figure size 432x288 with 1 Axes>"
            ],
            "image/png": "[encoded data removed]"
          },
          "metadata": {
            "needs_background": "light"
          }
        }
      ]
    },
    {
      "cell_type": "code",
      "source": [
        "df_test_data = pd.DataFrame(test2D_data.reshape(test2D_data.shape[0] * test2D_data.shape[1], -1))\n",
        "df_test_data = pd.concat([df_test_data , convert_to_1D_df(test_entropy_img)],axis=1)\n",
        "df_test_data.columns=['Blue', 'Green', 'Red', 'NIR','Conv_Blue', 'Conv_Green', 'Conv_Red', 'Conv_NIR']"
      ],
      "metadata": {
        "id": "EfI8bkmqGNGl"
      },
      "execution_count": null,
      "outputs": []
    },
    {
      "cell_type": "code",
      "source": [
        "df_test_data[\"NDVI\"] = df_test_data.apply(lambda x:calc_NDVI(x.Red,x.NIR),axis=1)"
      ],
      "metadata": {
        "colab": {
          "base_uri": "https://localhost:8080/"
        },
        "id": "WIadF0RKG3hr",
        "outputId": "e61c2b2b-4e35-4370-baed-b6627992bd4f"
      },
      "execution_count": null,
      "outputs": [
        {
          "output_type": "stream",
          "name": "stderr",
          "text": [
            "<ipython-input-59-d47dd91e20dc>:2: RuntimeWarning: invalid value encountered in double_scalars\n",
            "  return (nir - red)/(nir + red)\n"
          ]
        }
      ]
    },
    {
      "cell_type": "code",
      "source": [
        "df_test_data[\"NDWI\"] = df_test_data.apply(lambda x:calc_NDWI(x.Green,x.NIR),axis=1)"
      ],
      "metadata": {
        "colab": {
          "base_uri": "https://localhost:8080/"
        },
        "id": "mQm7Fw2tHEHD",
        "outputId": "a655c150-8612-4216-a590-b6d4efafa2de"
      },
      "execution_count": null,
      "outputs": [
        {
          "output_type": "stream",
          "name": "stderr",
          "text": [
            "<ipython-input-59-d47dd91e20dc>:5: RuntimeWarning: invalid value encountered in double_scalars\n",
            "  return (green - nir)/(nir + green)\n"
          ]
        }
      ]
    },
    {
      "cell_type": "code",
      "execution_count": null,
      "metadata": {
        "colab": {
          "base_uri": "https://localhost:8080/",
          "height": 424
        },
        "id": "zFkaM5ATLUzr",
        "outputId": "d0b3cbea-5618-4b99-87dd-ef3ee8ddeda1"
      },
      "outputs": [
        {
          "output_type": "execute_result",
          "data": {
            "text/plain": [
              "         Blue  Green   Red   NIR  Conv_Blue  Conv_Green  Conv_Red  Conv_NIR  \\\n",
              "0           0      0     0     0   5.449318    5.417598  5.599426  5.757923   \n",
              "1        1938   1880  1683  3362   5.701468    5.576824  5.789017  6.011663   \n",
              "2        1943   1874  1661  3388   5.797370    5.688514  5.967869  6.188457   \n",
              "3        1959   1876  1690  3354   5.862239    5.861406  6.081111  6.330063   \n",
              "4        1943   1873  1696  3305   5.920380    5.919612  6.085072  6.459143   \n",
              "...       ...    ...   ...   ...        ...         ...       ...       ...   \n",
              "4620304  1880   1590  1366  1235   4.478595    4.156351  4.042419  3.932423   \n",
              "4620305  1891   1594  1369  1237   4.497150    4.195457  4.014470  3.886612   \n",
              "4620306  1879   1591  1375  1242   4.441791    4.127229  3.957339  3.816333   \n",
              "4620307  1879   1584  1378  1242   4.403864    4.153208  3.943920  3.813927   \n",
              "4620308  1881   1589  1376  1241   4.417870    4.114425  3.946015  3.758414   \n",
              "\n",
              "             NDVI      NDWI  \n",
              "0        0.000000  0.000000  \n",
              "1        0.332805 -0.282717  \n",
              "2        0.342048 -0.287723  \n",
              "3        0.329897 -0.282600  \n",
              "4        0.321736 -0.276555  \n",
              "...           ...       ...  \n",
              "4620304 -0.050365  0.125664  \n",
              "4620305 -0.050652  0.126104  \n",
              "4620306 -0.050822  0.123191  \n",
              "4620307 -0.051908  0.121019  \n",
              "4620308 -0.051586  0.122968  \n",
              "\n",
              "[4620309 rows x 10 columns]"
            ],
            "text/html": [
              "\n",
              "  <div id=\"df-e1ebd42c-1633-4f3b-96e6-bb05c10cbf80\">\n",
              "    <div class=\"colab-df-container\">\n",
              "      <div>\n",
              "<style scoped>\n",
              "    .dataframe tbody tr th:only-of-type {\n",
              "        vertical-align: middle;\n",
              "    }\n",
              "\n",
              "    .dataframe tbody tr th {\n",
              "        vertical-align: top;\n",
              "    }\n",
              "\n",
              "    .dataframe thead th {\n",
              "        text-align: right;\n",
              "    }\n",
              "</style>\n",
              "<table border=\"1\" class=\"dataframe\">\n",
              "  <thead>\n",
              "    <tr style=\"text-align: right;\">\n",
              "      <th></th>\n",
              "      <th>Blue</th>\n",
              "      <th>Green</th>\n",
              "      <th>Red</th>\n",
              "      <th>NIR</th>\n",
              "      <th>Conv_Blue</th>\n",
              "      <th>Conv_Green</th>\n",
              "      <th>Conv_Red</th>\n",
              "      <th>Conv_NIR</th>\n",
              "      <th>NDVI</th>\n",
              "      <th>NDWI</th>\n",
              "    </tr>\n",
              "  </thead>\n",
              "  <tbody>\n",
              "    <tr>\n",
              "      <th>0</th>\n",
              "      <td>0</td>\n",
              "      <td>0</td>\n",
              "      <td>0</td>\n",
              "      <td>0</td>\n",
              "      <td>5.449318</td>\n",
              "      <td>5.417598</td>\n",
              "      <td>5.599426</td>\n",
              "      <td>5.757923</td>\n",
              "      <td>0.000000</td>\n",
              "      <td>0.000000</td>\n",
              "    </tr>\n",
              "    <tr>\n",
              "      <th>1</th>\n",
              "      <td>1938</td>\n",
              "      <td>1880</td>\n",
              "      <td>1683</td>\n",
              "      <td>3362</td>\n",
              "      <td>5.701468</td>\n",
              "      <td>5.576824</td>\n",
              "      <td>5.789017</td>\n",
              "      <td>6.011663</td>\n",
              "      <td>0.332805</td>\n",
              "      <td>-0.282717</td>\n",
              "    </tr>\n",
              "    <tr>\n",
              "      <th>2</th>\n",
              "      <td>1943</td>\n",
              "      <td>1874</td>\n",
              "      <td>1661</td>\n",
              "      <td>3388</td>\n",
              "      <td>5.797370</td>\n",
              "      <td>5.688514</td>\n",
              "      <td>5.967869</td>\n",
              "      <td>6.188457</td>\n",
              "      <td>0.342048</td>\n",
              "      <td>-0.287723</td>\n",
              "    </tr>\n",
              "    <tr>\n",
              "      <th>3</th>\n",
              "      <td>1959</td>\n",
              "      <td>1876</td>\n",
              "      <td>1690</td>\n",
              "      <td>3354</td>\n",
              "      <td>5.862239</td>\n",
              "      <td>5.861406</td>\n",
              "      <td>6.081111</td>\n",
              "      <td>6.330063</td>\n",
              "      <td>0.329897</td>\n",
              "      <td>-0.282600</td>\n",
              "    </tr>\n",
              "    <tr>\n",
              "      <th>4</th>\n",
              "      <td>1943</td>\n",
              "      <td>1873</td>\n",
              "      <td>1696</td>\n",
              "      <td>3305</td>\n",
              "      <td>5.920380</td>\n",
              "      <td>5.919612</td>\n",
              "      <td>6.085072</td>\n",
              "      <td>6.459143</td>\n",
              "      <td>0.321736</td>\n",
              "      <td>-0.276555</td>\n",
              "    </tr>\n",
              "    <tr>\n",
              "      <th>...</th>\n",
              "      <td>...</td>\n",
              "      <td>...</td>\n",
              "      <td>...</td>\n",
              "      <td>...</td>\n",
              "      <td>...</td>\n",
              "      <td>...</td>\n",
              "      <td>...</td>\n",
              "      <td>...</td>\n",
              "      <td>...</td>\n",
              "      <td>...</td>\n",
              "    </tr>\n",
              "    <tr>\n",
              "      <th>4620304</th>\n",
              "      <td>1880</td>\n",
              "      <td>1590</td>\n",
              "      <td>1366</td>\n",
              "      <td>1235</td>\n",
              "      <td>4.478595</td>\n",
              "      <td>4.156351</td>\n",
              "      <td>4.042419</td>\n",
              "      <td>3.932423</td>\n",
              "      <td>-0.050365</td>\n",
              "      <td>0.125664</td>\n",
              "    </tr>\n",
              "    <tr>\n",
              "      <th>4620305</th>\n",
              "      <td>1891</td>\n",
              "      <td>1594</td>\n",
              "      <td>1369</td>\n",
              "      <td>1237</td>\n",
              "      <td>4.497150</td>\n",
              "      <td>4.195457</td>\n",
              "      <td>4.014470</td>\n",
              "      <td>3.886612</td>\n",
              "      <td>-0.050652</td>\n",
              "      <td>0.126104</td>\n",
              "    </tr>\n",
              "    <tr>\n",
              "      <th>4620306</th>\n",
              "      <td>1879</td>\n",
              "      <td>1591</td>\n",
              "      <td>1375</td>\n",
              "      <td>1242</td>\n",
              "      <td>4.441791</td>\n",
              "      <td>4.127229</td>\n",
              "      <td>3.957339</td>\n",
              "      <td>3.816333</td>\n",
              "      <td>-0.050822</td>\n",
              "      <td>0.123191</td>\n",
              "    </tr>\n",
              "    <tr>\n",
              "      <th>4620307</th>\n",
              "      <td>1879</td>\n",
              "      <td>1584</td>\n",
              "      <td>1378</td>\n",
              "      <td>1242</td>\n",
              "      <td>4.403864</td>\n",
              "      <td>4.153208</td>\n",
              "      <td>3.943920</td>\n",
              "      <td>3.813927</td>\n",
              "      <td>-0.051908</td>\n",
              "      <td>0.121019</td>\n",
              "    </tr>\n",
              "    <tr>\n",
              "      <th>4620308</th>\n",
              "      <td>1881</td>\n",
              "      <td>1589</td>\n",
              "      <td>1376</td>\n",
              "      <td>1241</td>\n",
              "      <td>4.417870</td>\n",
              "      <td>4.114425</td>\n",
              "      <td>3.946015</td>\n",
              "      <td>3.758414</td>\n",
              "      <td>-0.051586</td>\n",
              "      <td>0.122968</td>\n",
              "    </tr>\n",
              "  </tbody>\n",
              "</table>\n",
              "<p>4620309 rows × 10 columns</p>\n",
              "</div>\n",
              "      <button class=\"colab-df-convert\" onclick=\"convertToInteractive('df-e1ebd42c-1633-4f3b-96e6-bb05c10cbf80')\"\n",
              "              title=\"Convert this dataframe to an interactive table.\"\n",
              "              style=\"display:none;\">\n",
              "        \n",
              "  <svg xmlns=\"http://www.w3.org/2000/svg\" height=\"24px\"viewBox=\"0 0 24 24\"\n",
              "       width=\"24px\">\n",
              "    <path d=\"M0 0h24v24H0V0z\" fill=\"none\"/>\n",
              "    <path d=\"M18.56 5.44l.94 2.06.94-2.06 2.06-.94-2.06-.94-.94-2.06-.94 2.06-2.06.94zm-11 1L8.5 8.5l.94-2.06 2.06-.94-2.06-.94L8.5 2.5l-.94 2.06-2.06.94zm10 10l.94 2.06.94-2.06 2.06-.94-2.06-.94-.94-2.06-.94 2.06-2.06.94z\"/><path d=\"M17.41 7.96l-1.37-1.37c-.4-.4-.92-.59-1.43-.59-.52 0-1.04.2-1.43.59L10.3 9.45l-7.72 7.72c-.78.78-.78 2.05 0 2.83L4 21.41c.39.39.9.59 1.41.59.51 0 1.02-.2 1.41-.59l7.78-7.78 2.81-2.81c.8-.78.8-2.07 0-2.86zM5.41 20L4 18.59l7.72-7.72 1.47 1.35L5.41 20z\"/>\n",
              "  </svg>\n",
              "      </button>\n",
              "      \n",
              "  <style>\n",
              "    .colab-df-container {\n",
              "      display:flex;\n",
              "      flex-wrap:wrap;\n",
              "      gap: 12px;\n",
              "    }\n",
              "\n",
              "    .colab-df-convert {\n",
              "      background-color: #E8F0FE;\n",
              "      border: none;\n",
              "      border-radius: 50%;\n",
              "      cursor: pointer;\n",
              "      display: none;\n",
              "      fill: #1967D2;\n",
              "      height: 32px;\n",
              "      padding: 0 0 0 0;\n",
              "      width: 32px;\n",
              "    }\n",
              "\n",
              "    .colab-df-convert:hover {\n",
              "      background-color: #E2EBFA;\n",
              "      box-shadow: 0px 1px 2px rgba(60, 64, 67, 0.3), 0px 1px 3px 1px rgba(60, 64, 67, 0.15);\n",
              "      fill: #174EA6;\n",
              "    }\n",
              "\n",
              "    [theme=dark] .colab-df-convert {\n",
              "      background-color: #3B4455;\n",
              "      fill: #D2E3FC;\n",
              "    }\n",
              "\n",
              "    [theme=dark] .colab-df-convert:hover {\n",
              "      background-color: #434B5C;\n",
              "      box-shadow: 0px 1px 3px 1px rgba(0, 0, 0, 0.15);\n",
              "      filter: drop-shadow(0px 1px 2px rgba(0, 0, 0, 0.3));\n",
              "      fill: #FFFFFF;\n",
              "    }\n",
              "  </style>\n",
              "\n",
              "      <script>\n",
              "        const buttonEl =\n",
              "          document.querySelector('#df-e1ebd42c-1633-4f3b-96e6-bb05c10cbf80 button.colab-df-convert');\n",
              "        buttonEl.style.display =\n",
              "          google.colab.kernel.accessAllowed ? 'block' : 'none';\n",
              "\n",
              "        async function convertToInteractive(key) {\n",
              "          const element = document.querySelector('#df-e1ebd42c-1633-4f3b-96e6-bb05c10cbf80');\n",
              "          const dataTable =\n",
              "            await google.colab.kernel.invokeFunction('convertToInteractive',\n",
              "                                                     [key], {});\n",
              "          if (!dataTable) return;\n",
              "\n",
              "          const docLinkHtml = 'Like what you see? Visit the ' +\n",
              "            '<a target=\"_blank\" href=https://colab.research.google.com/notebooks/data_table.ipynb>data table notebook</a>'\n",
              "            + ' to learn more about interactive tables.';\n",
              "          element.innerHTML = '';\n",
              "          dataTable['output_type'] = 'display_data';\n",
              "          await google.colab.output.renderOutput(dataTable, element);\n",
              "          const docLink = document.createElement('div');\n",
              "          docLink.innerHTML = docLinkHtml;\n",
              "          element.appendChild(docLink);\n",
              "        }\n",
              "      </script>\n",
              "    </div>\n",
              "  </div>\n",
              "  "
            ]
          },
          "metadata": {},
          "execution_count": 83
        }
      ],
      "source": [
        "df_test_data = df_test_data.fillna(0)\n",
        "df_test_data"
      ]
    },
    {
      "cell_type": "code",
      "source": [
        "df_test_data.to_pickle('drive/< path to saves directory >/entr_test.pkl')"
      ],
      "metadata": {
        "id": "u8hhVxdRIW2z"
      },
      "execution_count": null,
      "outputs": []
    },
    {
      "cell_type": "code",
      "source": [
        "del test2D_data\n",
        "del test_entropy_img"
      ],
      "metadata": {
        "id": "wUnvdd7_GWlj"
      },
      "execution_count": null,
      "outputs": []
    },
    {
      "cell_type": "markdown",
      "source": [
        "## Load Pre-Processed"
      ],
      "metadata": {
        "id": "sYg887HENE6k"
      }
    },
    {
      "cell_type": "code",
      "execution_count": null,
      "metadata": {
        "id": "UG4GiJDL1pTy"
      },
      "outputs": [],
      "source": [
        "# Use this function to load the pre-processed\n",
        "df_test_data = pd.read_pickle('drive/< path to saves directory >/entr_test.pkl')"
      ]
    },
    {
      "cell_type": "code",
      "source": [
        "df_test_data"
      ],
      "metadata": {
        "colab": {
          "base_uri": "https://localhost:8080/",
          "height": 424
        },
        "id": "c2i-lVZG55Yj",
        "outputId": "35886af1-ecec-4e63-e140-296364862f61"
      },
      "execution_count": null,
      "outputs": [
        {
          "output_type": "execute_result",
          "data": {
            "text/plain": [
              "         Blue  Green   Red   NIR  Conv_Blue  Conv_Green  Conv_Red  Conv_NIR  \\\n",
              "0           0      0     0     0   5.449318    5.417598  5.599426  5.757923   \n",
              "1        1938   1880  1683  3362   5.701468    5.576824  5.789017  6.011663   \n",
              "2        1943   1874  1661  3388   5.797370    5.688514  5.967869  6.188457   \n",
              "3        1959   1876  1690  3354   5.862239    5.861406  6.081111  6.330063   \n",
              "4        1943   1873  1696  3305   5.920380    5.919612  6.085072  6.459143   \n",
              "...       ...    ...   ...   ...        ...         ...       ...       ...   \n",
              "4620304  1880   1590  1366  1235   4.478595    4.156351  4.042419  3.932423   \n",
              "4620305  1891   1594  1369  1237   4.497150    4.195457  4.014470  3.886612   \n",
              "4620306  1879   1591  1375  1242   4.441791    4.127229  3.957339  3.816333   \n",
              "4620307  1879   1584  1378  1242   4.403864    4.153208  3.943920  3.813927   \n",
              "4620308  1881   1589  1376  1241   4.417870    4.114425  3.946015  3.758414   \n",
              "\n",
              "             NDVI      NDWI  \n",
              "0        0.000000  0.000000  \n",
              "1        0.332805 -0.282717  \n",
              "2        0.342048 -0.287723  \n",
              "3        0.329897 -0.282600  \n",
              "4        0.321736 -0.276555  \n",
              "...           ...       ...  \n",
              "4620304 -0.050365  0.125664  \n",
              "4620305 -0.050652  0.126104  \n",
              "4620306 -0.050822  0.123191  \n",
              "4620307 -0.051908  0.121019  \n",
              "4620308 -0.051586  0.122968  \n",
              "\n",
              "[4620309 rows x 10 columns]"
            ],
            "text/html": [
              "\n",
              "  <div id=\"df-5d3d6814-0517-4074-9b01-cf27312cb1a0\">\n",
              "    <div class=\"colab-df-container\">\n",
              "      <div>\n",
              "<style scoped>\n",
              "    .dataframe tbody tr th:only-of-type {\n",
              "        vertical-align: middle;\n",
              "    }\n",
              "\n",
              "    .dataframe tbody tr th {\n",
              "        vertical-align: top;\n",
              "    }\n",
              "\n",
              "    .dataframe thead th {\n",
              "        text-align: right;\n",
              "    }\n",
              "</style>\n",
              "<table border=\"1\" class=\"dataframe\">\n",
              "  <thead>\n",
              "    <tr style=\"text-align: right;\">\n",
              "      <th></th>\n",
              "      <th>Blue</th>\n",
              "      <th>Green</th>\n",
              "      <th>Red</th>\n",
              "      <th>NIR</th>\n",
              "      <th>Conv_Blue</th>\n",
              "      <th>Conv_Green</th>\n",
              "      <th>Conv_Red</th>\n",
              "      <th>Conv_NIR</th>\n",
              "      <th>NDVI</th>\n",
              "      <th>NDWI</th>\n",
              "    </tr>\n",
              "  </thead>\n",
              "  <tbody>\n",
              "    <tr>\n",
              "      <th>0</th>\n",
              "      <td>0</td>\n",
              "      <td>0</td>\n",
              "      <td>0</td>\n",
              "      <td>0</td>\n",
              "      <td>5.449318</td>\n",
              "      <td>5.417598</td>\n",
              "      <td>5.599426</td>\n",
              "      <td>5.757923</td>\n",
              "      <td>0.000000</td>\n",
              "      <td>0.000000</td>\n",
              "    </tr>\n",
              "    <tr>\n",
              "      <th>1</th>\n",
              "      <td>1938</td>\n",
              "      <td>1880</td>\n",
              "      <td>1683</td>\n",
              "      <td>3362</td>\n",
              "      <td>5.701468</td>\n",
              "      <td>5.576824</td>\n",
              "      <td>5.789017</td>\n",
              "      <td>6.011663</td>\n",
              "      <td>0.332805</td>\n",
              "      <td>-0.282717</td>\n",
              "    </tr>\n",
              "    <tr>\n",
              "      <th>2</th>\n",
              "      <td>1943</td>\n",
              "      <td>1874</td>\n",
              "      <td>1661</td>\n",
              "      <td>3388</td>\n",
              "      <td>5.797370</td>\n",
              "      <td>5.688514</td>\n",
              "      <td>5.967869</td>\n",
              "      <td>6.188457</td>\n",
              "      <td>0.342048</td>\n",
              "      <td>-0.287723</td>\n",
              "    </tr>\n",
              "    <tr>\n",
              "      <th>3</th>\n",
              "      <td>1959</td>\n",
              "      <td>1876</td>\n",
              "      <td>1690</td>\n",
              "      <td>3354</td>\n",
              "      <td>5.862239</td>\n",
              "      <td>5.861406</td>\n",
              "      <td>6.081111</td>\n",
              "      <td>6.330063</td>\n",
              "      <td>0.329897</td>\n",
              "      <td>-0.282600</td>\n",
              "    </tr>\n",
              "    <tr>\n",
              "      <th>4</th>\n",
              "      <td>1943</td>\n",
              "      <td>1873</td>\n",
              "      <td>1696</td>\n",
              "      <td>3305</td>\n",
              "      <td>5.920380</td>\n",
              "      <td>5.919612</td>\n",
              "      <td>6.085072</td>\n",
              "      <td>6.459143</td>\n",
              "      <td>0.321736</td>\n",
              "      <td>-0.276555</td>\n",
              "    </tr>\n",
              "    <tr>\n",
              "      <th>...</th>\n",
              "      <td>...</td>\n",
              "      <td>...</td>\n",
              "      <td>...</td>\n",
              "      <td>...</td>\n",
              "      <td>...</td>\n",
              "      <td>...</td>\n",
              "      <td>...</td>\n",
              "      <td>...</td>\n",
              "      <td>...</td>\n",
              "      <td>...</td>\n",
              "    </tr>\n",
              "    <tr>\n",
              "      <th>4620304</th>\n",
              "      <td>1880</td>\n",
              "      <td>1590</td>\n",
              "      <td>1366</td>\n",
              "      <td>1235</td>\n",
              "      <td>4.478595</td>\n",
              "      <td>4.156351</td>\n",
              "      <td>4.042419</td>\n",
              "      <td>3.932423</td>\n",
              "      <td>-0.050365</td>\n",
              "      <td>0.125664</td>\n",
              "    </tr>\n",
              "    <tr>\n",
              "      <th>4620305</th>\n",
              "      <td>1891</td>\n",
              "      <td>1594</td>\n",
              "      <td>1369</td>\n",
              "      <td>1237</td>\n",
              "      <td>4.497150</td>\n",
              "      <td>4.195457</td>\n",
              "      <td>4.014470</td>\n",
              "      <td>3.886612</td>\n",
              "      <td>-0.050652</td>\n",
              "      <td>0.126104</td>\n",
              "    </tr>\n",
              "    <tr>\n",
              "      <th>4620306</th>\n",
              "      <td>1879</td>\n",
              "      <td>1591</td>\n",
              "      <td>1375</td>\n",
              "      <td>1242</td>\n",
              "      <td>4.441791</td>\n",
              "      <td>4.127229</td>\n",
              "      <td>3.957339</td>\n",
              "      <td>3.816333</td>\n",
              "      <td>-0.050822</td>\n",
              "      <td>0.123191</td>\n",
              "    </tr>\n",
              "    <tr>\n",
              "      <th>4620307</th>\n",
              "      <td>1879</td>\n",
              "      <td>1584</td>\n",
              "      <td>1378</td>\n",
              "      <td>1242</td>\n",
              "      <td>4.403864</td>\n",
              "      <td>4.153208</td>\n",
              "      <td>3.943920</td>\n",
              "      <td>3.813927</td>\n",
              "      <td>-0.051908</td>\n",
              "      <td>0.121019</td>\n",
              "    </tr>\n",
              "    <tr>\n",
              "      <th>4620308</th>\n",
              "      <td>1881</td>\n",
              "      <td>1589</td>\n",
              "      <td>1376</td>\n",
              "      <td>1241</td>\n",
              "      <td>4.417870</td>\n",
              "      <td>4.114425</td>\n",
              "      <td>3.946015</td>\n",
              "      <td>3.758414</td>\n",
              "      <td>-0.051586</td>\n",
              "      <td>0.122968</td>\n",
              "    </tr>\n",
              "  </tbody>\n",
              "</table>\n",
              "<p>4620309 rows × 10 columns</p>\n",
              "</div>\n",
              "      <button class=\"colab-df-convert\" onclick=\"convertToInteractive('df-5d3d6814-0517-4074-9b01-cf27312cb1a0')\"\n",
              "              title=\"Convert this dataframe to an interactive table.\"\n",
              "              style=\"display:none;\">\n",
              "        \n",
              "  <svg xmlns=\"http://www.w3.org/2000/svg\" height=\"24px\"viewBox=\"0 0 24 24\"\n",
              "       width=\"24px\">\n",
              "    <path d=\"M0 0h24v24H0V0z\" fill=\"none\"/>\n",
              "    <path d=\"M18.56 5.44l.94 2.06.94-2.06 2.06-.94-2.06-.94-.94-2.06-.94 2.06-2.06.94zm-11 1L8.5 8.5l.94-2.06 2.06-.94-2.06-.94L8.5 2.5l-.94 2.06-2.06.94zm10 10l.94 2.06.94-2.06 2.06-.94-2.06-.94-.94-2.06-.94 2.06-2.06.94z\"/><path d=\"M17.41 7.96l-1.37-1.37c-.4-.4-.92-.59-1.43-.59-.52 0-1.04.2-1.43.59L10.3 9.45l-7.72 7.72c-.78.78-.78 2.05 0 2.83L4 21.41c.39.39.9.59 1.41.59.51 0 1.02-.2 1.41-.59l7.78-7.78 2.81-2.81c.8-.78.8-2.07 0-2.86zM5.41 20L4 18.59l7.72-7.72 1.47 1.35L5.41 20z\"/>\n",
              "  </svg>\n",
              "      </button>\n",
              "      \n",
              "  <style>\n",
              "    .colab-df-container {\n",
              "      display:flex;\n",
              "      flex-wrap:wrap;\n",
              "      gap: 12px;\n",
              "    }\n",
              "\n",
              "    .colab-df-convert {\n",
              "      background-color: #E8F0FE;\n",
              "      border: none;\n",
              "      border-radius: 50%;\n",
              "      cursor: pointer;\n",
              "      display: none;\n",
              "      fill: #1967D2;\n",
              "      height: 32px;\n",
              "      padding: 0 0 0 0;\n",
              "      width: 32px;\n",
              "    }\n",
              "\n",
              "    .colab-df-convert:hover {\n",
              "      background-color: #E2EBFA;\n",
              "      box-shadow: 0px 1px 2px rgba(60, 64, 67, 0.3), 0px 1px 3px 1px rgba(60, 64, 67, 0.15);\n",
              "      fill: #174EA6;\n",
              "    }\n",
              "\n",
              "    [theme=dark] .colab-df-convert {\n",
              "      background-color: #3B4455;\n",
              "      fill: #D2E3FC;\n",
              "    }\n",
              "\n",
              "    [theme=dark] .colab-df-convert:hover {\n",
              "      background-color: #434B5C;\n",
              "      box-shadow: 0px 1px 3px 1px rgba(0, 0, 0, 0.15);\n",
              "      filter: drop-shadow(0px 1px 2px rgba(0, 0, 0, 0.3));\n",
              "      fill: #FFFFFF;\n",
              "    }\n",
              "  </style>\n",
              "\n",
              "      <script>\n",
              "        const buttonEl =\n",
              "          document.querySelector('#df-5d3d6814-0517-4074-9b01-cf27312cb1a0 button.colab-df-convert');\n",
              "        buttonEl.style.display =\n",
              "          google.colab.kernel.accessAllowed ? 'block' : 'none';\n",
              "\n",
              "        async function convertToInteractive(key) {\n",
              "          const element = document.querySelector('#df-5d3d6814-0517-4074-9b01-cf27312cb1a0');\n",
              "          const dataTable =\n",
              "            await google.colab.kernel.invokeFunction('convertToInteractive',\n",
              "                                                     [key], {});\n",
              "          if (!dataTable) return;\n",
              "\n",
              "          const docLinkHtml = 'Like what you see? Visit the ' +\n",
              "            '<a target=\"_blank\" href=https://colab.research.google.com/notebooks/data_table.ipynb>data table notebook</a>'\n",
              "            + ' to learn more about interactive tables.';\n",
              "          element.innerHTML = '';\n",
              "          dataTable['output_type'] = 'display_data';\n",
              "          await google.colab.output.renderOutput(dataTable, element);\n",
              "          const docLink = document.createElement('div');\n",
              "          docLink.innerHTML = docLinkHtml;\n",
              "          element.appendChild(docLink);\n",
              "        }\n",
              "      </script>\n",
              "    </div>\n",
              "  </div>\n",
              "  "
            ]
          },
          "metadata": {},
          "execution_count": 44
        }
      ]
    },
    {
      "cell_type": "markdown",
      "source": [
        "## Predict (Water -> Rest)"
      ],
      "metadata": {
        "id": "GDoVXd3TNeXf"
      }
    },
    {
      "cell_type": "markdown",
      "source": [
        "### Water"
      ],
      "metadata": {
        "id": "WbkzgyuA5qY3"
      }
    },
    {
      "cell_type": "code",
      "source": [
        "test_water_index = water_clf.predict(df_test_data)"
      ],
      "metadata": {
        "id": "EDpD1IfXNgP0"
      },
      "execution_count": null,
      "outputs": []
    },
    {
      "cell_type": "code",
      "source": [
        "df_test_data_nw = df_test_data.loc[~test_water_index,:]"
      ],
      "metadata": {
        "id": "NgeVb1lD6Tw0"
      },
      "execution_count": null,
      "outputs": []
    },
    {
      "cell_type": "markdown",
      "source": [
        "### Rest"
      ],
      "metadata": {
        "id": "UbHyKHDR5unN"
      }
    },
    {
      "cell_type": "code",
      "execution_count": null,
      "metadata": {
        "id": "1n4PGCLu13-J"
      },
      "outputs": [],
      "source": [
        "output = clf.predict(df_test_data_nw)"
      ]
    },
    {
      "cell_type": "markdown",
      "source": [
        "### Combine"
      ],
      "metadata": {
        "id": "0OI8vtXp3KeA"
      }
    },
    {
      "cell_type": "code",
      "source": [
        "df_out = pd.read_csv('/content/drive/< path to submission file >')"
      ],
      "metadata": {
        "id": "VLxCcuet3NJ6"
      },
      "execution_count": null,
      "outputs": []
    },
    {
      "cell_type": "code",
      "source": [
        "df_out[\"Code\"] = 80 "
      ],
      "metadata": {
        "id": "9chSIBGc3Quw"
      },
      "execution_count": null,
      "outputs": []
    },
    {
      "cell_type": "code",
      "source": [
        "df_out[\"Code\"][~test_water_index] = output"
      ],
      "metadata": {
        "id": "OBwPkvde3T8T"
      },
      "execution_count": null,
      "outputs": []
    },
    {
      "cell_type": "markdown",
      "source": [
        "## Predict (Water -> Build -> Rest)"
      ],
      "metadata": {
        "id": "ghx4ksqaUQBL"
      }
    },
    {
      "cell_type": "markdown",
      "source": [
        "### Water"
      ],
      "metadata": {
        "id": "wciWpk-BZtJk"
      }
    },
    {
      "cell_type": "code",
      "source": [
        "test_water_index = water_clf.predict(df_test_data)"
      ],
      "metadata": {
        "id": "oGnvjvwxUdBH"
      },
      "execution_count": null,
      "outputs": []
    },
    {
      "cell_type": "code",
      "source": [
        "np.save('/content/drive/< path to saves directory >/intermediate_data/test_water_index.npy', test_water_index)"
      ],
      "metadata": {
        "id": "8bgbMHtCV1Qs"
      },
      "execution_count": null,
      "outputs": []
    },
    {
      "cell_type": "code",
      "source": [
        "test_water_index = np.load('/content/drive/< path to saves directory >/intermediate_data/test_water_index.npy')"
      ],
      "metadata": {
        "id": "GZRBBs7AWr2y"
      },
      "execution_count": null,
      "outputs": []
    },
    {
      "cell_type": "markdown",
      "source": [
        "### Building"
      ],
      "metadata": {
        "id": "bo1DYegwWhBQ"
      }
    },
    {
      "cell_type": "code",
      "source": [
        "df_test_data_nw = df_test_data.loc[~test_water_index,:]"
      ],
      "metadata": {
        "id": "7OWdFkPwUjpy"
      },
      "execution_count": null,
      "outputs": []
    },
    {
      "cell_type": "code",
      "source": [
        "test_nw_building_index = building_clf.predict(df_test_data_nw)"
      ],
      "metadata": {
        "id": "yimTNTMXUne3"
      },
      "execution_count": null,
      "outputs": []
    },
    {
      "cell_type": "code",
      "source": [
        "np.save('/content/drive/< path to saves directory >/intermediate_data/test_nw_building_index.npy', test_nw_building_index)"
      ],
      "metadata": {
        "id": "kAtVgPvlZwbS"
      },
      "execution_count": null,
      "outputs": []
    },
    {
      "cell_type": "code",
      "source": [
        "test_nw_building_index = np.load('/content/drive/< path to saves directory >/intermediate_data/test_nw_building_index.npy')"
      ],
      "metadata": {
        "id": "FPM9HoWBZ4JR"
      },
      "execution_count": null,
      "outputs": []
    },
    {
      "cell_type": "markdown",
      "source": [
        "### Plant"
      ],
      "metadata": {
        "id": "XWil30bmZ9o2"
      }
    },
    {
      "cell_type": "code",
      "source": [
        "df_test_data_plant = df_test_data_nw.loc[~test_nw_building_index,:]"
      ],
      "metadata": {
        "id": "oToWTUvqZ_Ma"
      },
      "execution_count": null,
      "outputs": []
    },
    {
      "cell_type": "code",
      "source": [
        "plant_res = plant_clf.predict(df_test_data_plant)"
      ],
      "metadata": {
        "id": "_Ty2PhIQbX2D"
      },
      "execution_count": null,
      "outputs": []
    },
    {
      "cell_type": "code",
      "source": [
        "np.save('/content/drive/< path to saves directory >/intermediate_data/plant_res.npy', plant_res)"
      ],
      "metadata": {
        "id": "BRItUSYecVMx"
      },
      "execution_count": null,
      "outputs": []
    },
    {
      "cell_type": "code",
      "source": [
        "plant_res = np.load('/content/drive/< path to saves directory >/intermediate_data/plant_res.npy')"
      ],
      "metadata": {
        "id": "bbGDjQ18db_C"
      },
      "execution_count": null,
      "outputs": []
    },
    {
      "cell_type": "markdown",
      "source": [
        "### Combine"
      ],
      "metadata": {
        "id": "_Q2j3YYbdgHz"
      }
    },
    {
      "cell_type": "code",
      "source": [
        "df_out = pd.read_csv('/content/drive/< path to example submission file>')"
      ],
      "metadata": {
        "id": "ANbiZyg2GU0q"
      },
      "execution_count": null,
      "outputs": []
    },
    {
      "cell_type": "code",
      "source": [
        "df_out[\"Code\"] = 80 "
      ],
      "metadata": {
        "id": "pKSRaEjD69p8"
      },
      "execution_count": null,
      "outputs": []
    },
    {
      "cell_type": "code",
      "source": [
        "df_out[\"Code\"][~test_water_index] = 50"
      ],
      "metadata": {
        "id": "pzrD67lNHkRI"
      },
      "execution_count": null,
      "outputs": []
    },
    {
      "cell_type": "code",
      "source": [
        "test_water_index[~test_water_index] = test_nw_building_index"
      ],
      "metadata": {
        "id": "8O1d-HMfeD11"
      },
      "execution_count": null,
      "outputs": []
    },
    {
      "cell_type": "code",
      "source": [
        "df_out[\"Code\"][~test_water_index] = plant_res"
      ],
      "metadata": {
        "id": "uZGmy77qdk91"
      },
      "execution_count": null,
      "outputs": []
    },
    {
      "cell_type": "markdown",
      "source": [
        "## Submit output"
      ],
      "metadata": {
        "id": "8-yBesYhGRSE"
      }
    },
    {
      "cell_type": "code",
      "execution_count": null,
      "metadata": {
        "id": "6FawlWnK2Gy5"
      },
      "outputs": [],
      "source": [
        "df_out.to_csv(\"drive/< path to saves directory >/submission.csv\",index=False)\n",
        "df_out.to_csv(\"submission.csv\",index=False)"
      ]
    },
    {
      "cell_type": "code",
      "execution_count": null,
      "metadata": {
        "id": "lSZGMviECN90"
      },
      "outputs": [],
      "source": [
        "!mkdir -p ~/.kaggle\n",
        "!cp drive/< directory containing kaggle token >/kaggle.json ~/.kaggle/\n",
        "!chmod 600 /root/.kaggle/kaggle.json"
      ]
    },
    {
      "cell_type": "code",
      "execution_count": null,
      "metadata": {
        "colab": {
          "base_uri": "https://localhost:8080/"
        },
        "id": "ufaemFWy6R3X",
        "outputId": "d1ac6893-8739-4a14-bdff-3c06a693d9c1"
      },
      "outputs": [
        {
          "output_type": "stream",
          "name": "stdout",
          "text": [
            "Looking in indexes: https://pypi.org/simple, https://us-python.pkg.dev/colab-wheels/public/simple/\n",
            "Requirement already satisfied: kaggle in /usr/local/lib/python3.8/dist-packages (1.5.12)\n",
            "Requirement already satisfied: certifi in /usr/local/lib/python3.8/dist-packages (from kaggle) (2022.12.7)\n",
            "Requirement already satisfied: python-slugify in /usr/local/lib/python3.8/dist-packages (from kaggle) (7.0.0)\n",
            "Requirement already satisfied: requests in /usr/local/lib/python3.8/dist-packages (from kaggle) (2.25.1)\n",
            "Requirement already satisfied: urllib3 in /usr/local/lib/python3.8/dist-packages (from kaggle) (1.24.3)\n",
            "Requirement already satisfied: tqdm in /usr/local/lib/python3.8/dist-packages (from kaggle) (4.64.1)\n",
            "Requirement already satisfied: python-dateutil in /usr/local/lib/python3.8/dist-packages (from kaggle) (2.8.2)\n",
            "Requirement already satisfied: six>=1.10 in /usr/local/lib/python3.8/dist-packages (from kaggle) (1.15.0)\n",
            "Requirement already satisfied: text-unidecode>=1.3 in /usr/local/lib/python3.8/dist-packages (from python-slugify->kaggle) (1.3)\n",
            "Requirement already satisfied: chardet<5,>=3.0.2 in /usr/local/lib/python3.8/dist-packages (from requests->kaggle) (4.0.0)\n",
            "Requirement already satisfied: idna<3,>=2.5 in /usr/local/lib/python3.8/dist-packages (from requests->kaggle) (2.10)\n"
          ]
        }
      ],
      "source": [
        "!pip install kaggle"
      ]
    },
    {
      "cell_type": "code",
      "execution_count": null,
      "metadata": {
        "colab": {
          "base_uri": "https://localhost:8080/"
        },
        "id": "0Ch-Q2LWAlOL",
        "outputId": "c8c71386-1261-41d8-d53f-a58b2d52ea35"
      },
      "outputs": [
        {
          "output_type": "stream",
          "name": "stdout",
          "text": [
            "100% 47.4M/47.4M [00:01<00:00, 34.4MB/s]\n",
            "Successfully submitted to AYBÜ CENG463 Machine Learning Project, Fall 2022"
          ]
        }
      ],
      "source": [
        "!kaggle competitions submit -c ayb-ceng463-machine-learning-project-fall-2022 -f submission.csv -m \"Water (Poly 2 SVM) -> Rest (P3 SVM 1e-9 tol)\""
      ]
    }
  ],
  "metadata": {
    "colab": {
      "provenance": [],
      "toc_visible": true,
      "include_colab_link": true
    },
    "gpuClass": "standard",
    "kernelspec": {
      "display_name": "base",
      "language": "python",
      "name": "python3"
    },
    "language_info": {
      "codemirror_mode": {
        "name": "ipython",
        "version": 3
      },
      "file_extension": ".py",
      "mimetype": "text/x-python",
      "name": "python",
      "nbconvert_exporter": "python",
      "pygments_lexer": "ipython3",
      "version": "3.9.13 (main, Aug 25 2022, 23:26:10) \n[GCC 11.2.0]"
    },
    "vscode": {
      "interpreter": {
        "hash": "4479d4db34e3c25221b5d68b1e7c1673e39c8aece49e9c6b74fca44a8ce98486"
      }
    },
    "accelerator": "TPU"
  },
  "nbformat": 4,
  "nbformat_minor": 0
}